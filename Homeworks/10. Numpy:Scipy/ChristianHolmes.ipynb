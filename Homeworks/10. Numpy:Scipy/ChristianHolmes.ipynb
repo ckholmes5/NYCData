{
 "cells": [
  {
   "cell_type": "markdown",
   "metadata": {
    "internals": {
     "slide_type": "subslide"
    },
    "slideshow": {
     "slide_type": "slide"
    }
   },
   "source": [
    "### Problem 1\n",
    "Construct the following arrays without listing all the elements. For example, you should use **np.ones(3)** to generate a array *array([1, 1, 1])* instead of **np.array([1, 1, 1])**."
   ]
  },
  {
   "cell_type": "markdown",
   "metadata": {
    "internals": {},
    "slideshow": {
     "slide_type": "-"
    }
   },
   "source": [
    "(1) Construct an array of **float** ranging from 0-10."
   ]
  },
  {
   "cell_type": "code",
   "execution_count": 1,
   "metadata": {
    "collapsed": false,
    "internals": {},
    "slideshow": {
     "slide_type": "-"
    }
   },
   "outputs": [
    {
     "name": "stdout",
     "output_type": "stream",
     "text": [
      "[  0.   1.   2.   3.   4.   5.   6.   7.   8.   9.  10.]\n"
     ]
    }
   ],
   "source": [
    "import numpy as np\n",
    "\n",
    "ar = np.arange(0.0,11.0)\n",
    "print ar\n",
    "#array([  0.,   1.,   2.,   3.,   4.,   5.,   6.,   7.,   8.,   9.,  10.])"
   ]
  },
  {
   "cell_type": "markdown",
   "metadata": {
    "internals": {},
    "slideshow": {
     "slide_type": "-"
    }
   },
   "source": [
    "(2) Create an array containing 7 evenly spaced numbers between 0 and 23."
   ]
  },
  {
   "cell_type": "code",
   "execution_count": 2,
   "metadata": {
    "collapsed": false,
    "internals": {},
    "slideshow": {
     "slide_type": "-"
    }
   },
   "outputs": [
    {
     "name": "stdout",
     "output_type": "stream",
     "text": [
      "[  0.           3.83333333   7.66666667  11.5         15.33333333\n",
      "  19.16666667  23.        ]\n"
     ]
    }
   ],
   "source": [
    "ar = np.linspace(0, 23, 7)\n",
    "print ar"
   ]
  },
  {
   "cell_type": "markdown",
   "metadata": {
    "internals": {},
    "slideshow": {
     "slide_type": "-"
    }
   },
   "source": [
    "(3) Create a 3x3 matrix with values ranging from 0 to 8."
   ]
  },
  {
   "cell_type": "code",
   "execution_count": 3,
   "metadata": {
    "collapsed": false,
    "internals": {},
    "slideshow": {
     "slide_type": "-"
    }
   },
   "outputs": [
    {
     "name": "stdout",
     "output_type": "stream",
     "text": [
      "[[0 1 2]\n",
      " [3 4 5]\n",
      " [6 7 8]]\n"
     ]
    }
   ],
   "source": [
    "x = np.arange(0,9)\n",
    "x = x.reshape([3,3])\n",
    "print x"
   ]
  },
  {
   "cell_type": "markdown",
   "metadata": {
    "internals": {},
    "slideshow": {
     "slide_type": "-"
    }
   },
   "source": [
    "(4) Create a 5x5 matrix with row values ranging from 0 to 4.\n",
    "\n",
    "$$\\left[\n",
    "\\begin{array}{cc}\n",
    "0 & 1 & 2 & 3 & 4 \\\\\n",
    "0 & 1 & 2 & 3 & 4 \\\\\n",
    "0 & 1 & 2 & 3 & 4 \\\\\n",
    "0 & 1 & 2 & 3 & 4 \\\\\n",
    "0 & 1 & 2 & 3 & 4 \n",
    "\\end{array}\n",
    "\\right]$$"
   ]
  },
  {
   "cell_type": "code",
   "execution_count": 4,
   "metadata": {
    "collapsed": false,
    "internals": {
     "slide_helper": "subslide_end"
    },
    "slide_helper": "slide_end",
    "slideshow": {
     "slide_type": "-"
    }
   },
   "outputs": [
    {
     "name": "stdout",
     "output_type": "stream",
     "text": [
      "[[ 0.  1.  2.  3.  4.]\n",
      " [ 0.  1.  2.  3.  4.]\n",
      " [ 0.  1.  2.  3.  4.]\n",
      " [ 0.  1.  2.  3.  4.]\n",
      " [ 0.  1.  2.  3.  4.]]\n"
     ]
    }
   ],
   "source": [
    "x = np.ones(25)\n",
    "y = np.arange(0,5)\n",
    "x = x.reshape([5,5])\n",
    "y = y.reshape([1,5])\n",
    "x = x*y\n",
    "print x"
   ]
  },
  {
   "cell_type": "markdown",
   "metadata": {
    "internals": {
     "slide_type": "subslide"
    },
    "slideshow": {
     "slide_type": "slide"
    }
   },
   "source": [
    "(5) A magic square is a matrix all of whose row sums, column sums and the sums of the two diagonals are the same. (One diagonal of a matrix goes from the top left to the bottom right, the other diagonal goes from top right to bottom left.)\n",
    "\n",
    "Further more, a $n \\times n$ magic matrix is constructed by $(1, 2, 3 ... n^2)$. For example, here is a $3\\times 3$ magic array:\n",
    "$$\\left[\n",
    "\\begin{array}{cc}\n",
    "8 & 1 & 6 \\\\\n",
    "3 & 5 & 7 \\\\\n",
    "4 & 9 & 2\n",
    "\\end{array}\n",
    "\\right]$$\n",
    "\n",
    "Each number can only be used once.\n",
    "\n",
    "Write a function to check whether a matrix is a magic matrix. You should check these three properties:\n",
    "\n",
    "1. Is it a square matrix?\n",
    "2. Is it constructed by $(1, 2, 3, ... n^2)$?\n",
    "3. Are the sums of rows, columns and diags the same? (Hint: the function **np.diag** may be useful)\n"
   ]
  },
  {
   "cell_type": "code",
   "execution_count": 5,
   "metadata": {
    "collapsed": false,
    "internals": {},
    "slideshow": {
     "slide_type": "-"
    }
   },
   "outputs": [],
   "source": [
    "a = np.arange(1,5)\n",
    "a = a.reshape([2,2])\n",
    "a = np.matrix(a)\n",
    "\n",
    "def isMagic(test):\n",
    "    #First Condition\n",
    "    if test.shape[0] != test.shape[1]:\n",
    "        return False\n",
    "    \n",
    "    #Second Condition\n",
    "    lst = []\n",
    "    for i in range(0,len(test)):\n",
    "        for j in range(0,len(test)):\n",
    "            if test[i,j] in lst:\n",
    "                return False\n",
    "            lst.append(test[i,j])\n",
    "    \n",
    "    #Third Condition\n",
    "    for i in range(len(test)):\n",
    "        if sum(test[i,:]) != sum(test[:,i]) != sum(np.diag(test)) != sum(np.fliplr(test)):\n",
    "            return False\n",
    "    return True\n",
    "        \n",
    "    "
   ]
  },
  {
   "cell_type": "raw",
   "metadata": {
    "internals": {},
    "slideshow": {
     "slide_type": "-"
    }
   },
   "source": [
    "Here are some tests:"
   ]
  },
  {
   "cell_type": "code",
   "execution_count": 6,
   "metadata": {
    "collapsed": false,
    "internals": {},
    "slideshow": {
     "slide_type": "-"
    }
   },
   "outputs": [
    {
     "data": {
      "text/plain": [
       "False"
      ]
     },
     "execution_count": 6,
     "metadata": {},
     "output_type": "execute_result"
    }
   ],
   "source": [
    "test1 = np.array([[0, 1], \n",
    "                  [1, 0]])\n",
    "isMagic(test1) # False"
   ]
  },
  {
   "cell_type": "code",
   "execution_count": 7,
   "metadata": {
    "collapsed": false,
    "internals": {},
    "slideshow": {
     "slide_type": "-"
    }
   },
   "outputs": [
    {
     "data": {
      "text/plain": [
       "True"
      ]
     },
     "execution_count": 7,
     "metadata": {},
     "output_type": "execute_result"
    }
   ],
   "source": [
    "test2 = np.array([[8, 1, 6],\n",
    "                  [3, 5, 7],\n",
    "                  [4, 9, 2]])\n",
    "isMagic(test2) # True"
   ]
  },
  {
   "cell_type": "code",
   "execution_count": 8,
   "metadata": {
    "collapsed": false,
    "internals": {},
    "slideshow": {
     "slide_type": "-"
    }
   },
   "outputs": [
    {
     "data": {
      "text/plain": [
       "True"
      ]
     },
     "execution_count": 8,
     "metadata": {},
     "output_type": "execute_result"
    }
   ],
   "source": [
    "test3 = np.array([[16, 2, 3, 13],\n",
    "                  [5, 11, 10, 8],\n",
    "                  [9,  7, 6, 12],\n",
    "                  [4, 14, 15, 1]]) \n",
    "isMagic(test3) # True"
   ]
  },
  {
   "cell_type": "code",
   "execution_count": 9,
   "metadata": {
    "collapsed": false,
    "internals": {},
    "slideshow": {
     "slide_type": "-"
    }
   },
   "outputs": [
    {
     "data": {
      "text/plain": [
       "True"
      ]
     },
     "execution_count": 9,
     "metadata": {},
     "output_type": "execute_result"
    }
   ],
   "source": [
    "test4 = np.array([[17, 24,  1,  8, 15],\n",
    "                  [23,  5,  7, 14, 16],\n",
    "                  [4,   6, 13, 20, 22],\n",
    "                  [10, 12, 19, 21,  3],\n",
    "                  [11, 18, 25, 2,   9]]) \n",
    "isMagic(test4) # True"
   ]
  },
  {
   "cell_type": "code",
   "execution_count": 10,
   "metadata": {
    "collapsed": false,
    "internals": {
     "slide_helper": "subslide_end"
    },
    "slide_helper": "slide_end",
    "slideshow": {
     "slide_type": "-"
    }
   },
   "outputs": [
    {
     "data": {
      "text/plain": [
       "True"
      ]
     },
     "execution_count": 10,
     "metadata": {},
     "output_type": "execute_result"
    }
   ],
   "source": [
    "test5 = np.array([[35, 1, 6, 26, 19, 24],\n",
    "                  [3, 32, 7, 21, 23, 25],\n",
    "                  [31, 9, 2, 22, 27, 20],\n",
    "                  [8, 28, 33, 17, 10,15],\n",
    "                  [30, 5, 34, 12, 14,16],\n",
    "                  [4, 36, 29, 13, 18,11]])\n",
    "isMagic(test5) # True"
   ]
  },
  {
   "cell_type": "markdown",
   "metadata": {},
   "source": [
    "### Problem 2\n",
    "\n",
    "According to this picture, does the \"Petal Length\" of different species has significant difference? Using the **Analysis of Variance** varify your answer.\n",
    "\n",
    "![iris](http://slides.nycdatascience.com/BOOTCAMP3/content/week6/pic/scatter.png)"
   ]
  },
  {
   "cell_type": "code",
   "execution_count": 11,
   "metadata": {
    "collapsed": false
   },
   "outputs": [
    {
     "name": "stderr",
     "output_type": "stream",
     "text": [
      "//anaconda/lib/python2.7/site-packages/pandas/computation/__init__.py:19: UserWarning: The installed version of numexpr 2.4.4 is not supported in pandas and will be not be used\n",
      "\n",
      "  UserWarning)\n"
     ]
    }
   ],
   "source": [
    "import pandas as pd\n",
    "from scipy import stats\n",
    "from sklearn import datasets\n",
    "raw_data = datasets.load_iris()\n",
    "\n",
    "Species = raw_data['target_names'][raw_data['target']]\n",
    "PetalLength = raw_data.data[:,2]\n",
    "PetalWidth = raw_data.data[:,3]"
   ]
  },
  {
   "cell_type": "code",
   "execution_count": 12,
   "metadata": {
    "collapsed": false
   },
   "outputs": [
    {
     "data": {
      "text/plain": [
       "F_onewayResult(statistic=1179.0343277002194, pvalue=3.0519758018278374e-91)"
      ]
     },
     "execution_count": 12,
     "metadata": {},
     "output_type": "execute_result"
    }
   ],
   "source": [
    "df = pd.DataFrame({'Species': Species, 'Length': PetalLength})\n",
    "\n",
    "setosa = df[df.Species == 'setosa']\n",
    "versicolor = df[df.Species == 'versicolor']\n",
    "virginica = df[df.Species == 'virginica']\n",
    "\n",
    "stats.f_oneway(setosa.Length, versicolor.Length, virginica.Length)\n"
   ]
  },
  {
   "cell_type": "markdown",
   "metadata": {},
   "source": [
    "### Problem 3\n",
    "\n",
    "\n",
    "We discuss random sampling in the class, which helps when exact solution is hard to obtain. For example, we know that the area of a circle is $\\pi \\times r^2 \\text{, where } r \\text{ is the radius of the circle. }$ But we don't know how to approximate the number $\\pi$.\n",
    "\n",
    "Monte Carlo simulation can help.\n",
    "\n",
    "<img src=monte_carlo.png width=330/>\n",
    "\n",
    "- Use `np.random.uniform` function to generate 2000 two dimensional samples. `uniform` indicates that the likelihood for any number from **-1 to 1** occurs is uniform. The shape of your sample should look like below (of course the actual numbers can be different)\n",
    "```\n",
    "array([[-0.53277773, -0.93122476],\n",
    "        [ 0.16017788, -0.74177143],\n",
    "        [ 0.37248292,  0.36734988],\n",
    "        ..., \n",
    "        [ 0.5314644 , -0.50411338],\n",
    "        [ 0.12208452,  0.6242463 ],\n",
    "        [ 0.74767075, -0.56486567]])\n",
    "```\n",
    "Therefore all the samples fall in the $[-1, 1] \\times [-1, 1] \\text{ box.}$"
   ]
  },
  {
   "cell_type": "code",
   "execution_count": 13,
   "metadata": {
    "collapsed": false
   },
   "outputs": [],
   "source": [
    "import numpy as np\n",
    "\n",
    "rand = []\n",
    "for i in range(1000):\n",
    "    rand_num = (np.random.uniform(-1,1),np.random.uniform(-1,1))\n",
    "    rand.append(rand_num)\n"
   ]
  },
  {
   "cell_type": "markdown",
   "metadata": {},
   "source": [
    "- The probability of points being in the circle is the ratio between the area of the circle and the area of the $[-1, 1] \\times [-1, 1] \\text{ box.}$ More precisely,\n",
    "\n",
    "$$\\text{Probability} \\big( \\text{points falling in the circle} \\big) = \\frac{\\text{area of the circle}}{\\text{area of the rectangle}} = \\frac{\\pi}{4},$$\n",
    "\n",
    "From the sample you generate in the last problem, estimate the probability of falling in the circle, then approximate $\\pi$."
   ]
  },
  {
   "cell_type": "code",
   "execution_count": 14,
   "metadata": {
    "collapsed": false
   },
   "outputs": [
    {
     "name": "stdout",
     "output_type": "stream",
     "text": [
      "3.148\n"
     ]
    }
   ],
   "source": [
    "#### Your code here\n",
    "in_circle = 0\n",
    "\n",
    "for i in rand:\n",
    "    if 1 > ((i[0])**2 + (i[1])**2):\n",
    "        in_circle += 1\n",
    "in_circle = float(in_circle)\n",
    "print (in_circle/1000.0)*4.0\n",
    "#3.1699999999999999"
   ]
  },
  {
   "cell_type": "code",
   "execution_count": 15,
   "metadata": {
    "collapsed": true
   },
   "outputs": [],
   "source": [
    "# D.D. - Great job!"
   ]
  },
  {
   "cell_type": "code",
   "execution_count": null,
   "metadata": {
    "collapsed": true
   },
   "outputs": [],
   "source": []
  }
 ],
 "metadata": {
  "anaconda-cloud": {},
  "kernelspec": {
   "display_name": "Python 2",
   "language": "python",
   "name": "python2"
  },
  "language_info": {
   "codemirror_mode": {
    "name": "ipython",
    "version": 2
   },
   "file_extension": ".py",
   "mimetype": "text/x-python",
   "name": "python",
   "nbconvert_exporter": "python",
   "pygments_lexer": "ipython2",
   "version": "2.7.11"
  }
 },
 "nbformat": 4,
 "nbformat_minor": 0
}
