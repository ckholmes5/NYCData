{
 "cells": [
  {
   "cell_type": "markdown",
   "metadata": {},
   "source": [
    "### 1. Regular Expression\n",
    "In this exercise, you need to handle a file 'record.txt', which is filled with chat records.\n",
    "The first 5 lines look like this:"
   ]
  },
  {
   "cell_type": "code",
   "execution_count": 1,
   "metadata": {
    "collapsed": false
   },
   "outputs": [
    {
     "name": "stdout",
     "output_type": "stream",
     "text": [
      "Jack 17:26:46\r\n",
      "The slogan duplicates a bliss after the plastic accent.\r\n",
      "Michael 17:26:47\r\n",
      "A tidied successor enlightens the advertised contract.\r\n",
      "William 17:26:48\r\n",
      "The secondary freedom matures beneath your suitable tip.\r\n",
      "John 17:26:50\r\n",
      "A wonderful newcomer expires on top of a cryptic entrance.\r\n",
      "William 17:26:51\r\n",
      "A bastard degenerates before the chorus!\r\n"
     ]
    }
   ],
   "source": [
    "!head ./record.txt"
   ]
  },
  {
   "cell_type": "markdown",
   "metadata": {},
   "source": [
    "Each line is either a sentence or a people's name followed with the time. Your task is finding out :\n",
    "\n",
    "    - names of people appear in this chat record.\n",
    "    - how many messages each person sent, and sort them in descending order.\n",
    "    \n",
    "The result looks like:\n",
    "\n",
    "    \n",
    "    [('Emily', 122), ('John', 99), ('Michael', 98), ('William', 91), ('Jack', 90), ('Elizabeth', 89), ('Emma', 87), ('Mary', 86), ('Jayden', 83), ('Daniel', 77)]"
   ]
  },
  {
   "cell_type": "code",
   "execution_count": 54,
   "metadata": {
    "collapsed": false
   },
   "outputs": [
    {
     "name": "stdout",
     "output_type": "stream",
     "text": [
      "[('Emily', 122), ('John', 99), ('Michael', 98), ('William', 91), ('Jack', 90), ('Elizabeth', 89), ('Emma', 87), ('Mary', 86), ('Jayden', 83), ('Daniel', 77)]\n"
     ]
    }
   ],
   "source": [
    "import re\n",
    "### Write your codes here\n",
    "with open('./record.txt') as txtfile:\n",
    "    n = 0\n",
    "    names = {}\n",
    "    for i in txtfile:\n",
    "        \n",
    "        if n % 2 == 0:\n",
    "            name = str.split(i, ' ')[0] \n",
    "            if name in names:\n",
    "                names[name] += 1\n",
    "            else:\n",
    "                names[name] = 1\n",
    "        n+= 1\n",
    "    names = names.items()\n",
    "    sorted_by_second = sorted(names, key=lambda tup: tup[1], reverse = True)\n",
    "    print sorted_by_second\n",
    "        \n",
    "        \n"
   ]
  },
  {
   "cell_type": "markdown",
   "metadata": {},
   "source": [
    "### 2. Best Time to Buy and Sell Stock\n",
    "Say you have an array for which the ith element is the price of a given stock on day i.\n",
    "\n",
    "If you were only permitted to complete at most one transaction (ie, buy one and sell one share of the stock), design an algorithm to find the maximum profit."
   ]
  },
  {
   "cell_type": "code",
   "execution_count": 122,
   "metadata": {
    "collapsed": true
   },
   "outputs": [],
   "source": [
    "def maxProfit(prices):\n",
    "    profit = 0.0\n",
    "    for i in range(0,len(prices)-1):\n",
    "        current = i\n",
    "        while i < len(prices) - 1:\n",
    "            i += 1\n",
    "            new_profit = prices[i] - prices[current]\n",
    "            if new_profit > profit:\n",
    "                profit = new_profit     \n",
    "    return profit\n",
    "\n",
    "    "
   ]
  },
  {
   "cell_type": "code",
   "execution_count": 123,
   "metadata": {
    "collapsed": false
   },
   "outputs": [
    {
     "data": {
      "text/plain": [
       "13.0"
      ]
     },
     "execution_count": 123,
     "metadata": {},
     "output_type": "execute_result"
    }
   ],
   "source": [
    "maxProfit([27.5, 14.6, 7.8, 20.8, 2.2]) #should be 13.0"
   ]
  },
  {
   "cell_type": "code",
   "execution_count": 124,
   "metadata": {
    "collapsed": false
   },
   "outputs": [
    {
     "data": {
      "text/plain": [
       "0.0"
      ]
     },
     "execution_count": 124,
     "metadata": {},
     "output_type": "execute_result"
    }
   ],
   "source": [
    "maxProfit([10.0, 8.0, 6.0, 4.0, 2.0]) #should be 0"
   ]
  },
  {
   "cell_type": "code",
   "execution_count": 125,
   "metadata": {
    "collapsed": false
   },
   "outputs": [
    {
     "data": {
      "text/plain": [
       "8.0"
      ]
     },
     "execution_count": 125,
     "metadata": {},
     "output_type": "execute_result"
    }
   ],
   "source": [
    "maxProfit([2.0, 4.0, 5.0, 3.0, 10.0]) #should be 8"
   ]
  },
  {
   "cell_type": "markdown",
   "metadata": {},
   "source": [
    "### 3. Two Sum\n",
    "\n",
    "+ Given an array of integers, return indices of the two numbers such that they add up to a specific target.\n",
    "\n",
    "+ You may assume that each input would have exactly one solution.\n",
    "\n",
    "**Example:**\n",
    "\n",
    "Given nums = [2, 7, 11, 15], target = 9,\n",
    "\n",
    "Because nums[0] + nums[1] = 2 + 7 = 9,\n",
    "return [0, 1]."
   ]
  },
  {
   "cell_type": "code",
   "execution_count": 3,
   "metadata": {
    "collapsed": false
   },
   "outputs": [],
   "source": [
    "def twoSum(nums, target):\n",
    "    for i in range(0,len(nums)):\n",
    "        current = i\n",
    "        while i < len(nums) - 1:\n",
    "            i += 1\n",
    "            if nums[i] + nums[current] == target:\n",
    "                return [current, i]\n",
    "    "
   ]
  },
  {
   "cell_type": "code",
   "execution_count": 4,
   "metadata": {
    "collapsed": false
   },
   "outputs": [
    {
     "data": {
      "text/plain": [
       "[0, 1]"
      ]
     },
     "execution_count": 4,
     "metadata": {},
     "output_type": "execute_result"
    }
   ],
   "source": [
    "twoSum([2, 7, 11, 15], 9)"
   ]
  },
  {
   "cell_type": "code",
   "execution_count": 5,
   "metadata": {
    "collapsed": false
   },
   "outputs": [
    {
     "data": {
      "text/plain": [
       "[2, 4]"
      ]
     },
     "execution_count": 5,
     "metadata": {},
     "output_type": "execute_result"
    }
   ],
   "source": [
    "twoSum([1, 3, 4, 6, 4], 8)"
   ]
  },
  {
   "cell_type": "markdown",
   "metadata": {},
   "source": [
    "### 4. Best Time to Buy and Sell Stock II (Homework)\n",
    "Say you have an array for which the ith element is the price of a given stock on day i.\n",
    "\n",
    "Design an algorithm to find the maximum profit. You may complete as many transactions as you like (ie, buy one and sell one share of the stock multiple times). However, you may not engage in multiple transactions at the same time (ie, you must sell the stock before you buy again)."
   ]
  },
  {
   "cell_type": "code",
   "execution_count": 14,
   "metadata": {
    "collapsed": true
   },
   "outputs": [],
   "source": [
    "def maxProfit2(prices):\n",
    "    profit = 0\n",
    "    for i in range(0, len(prices) -1):\n",
    "        if prices[i + 1] > prices[i]:\n",
    "            profit += prices[i + 1] - prices[i]\n",
    "    print profit"
   ]
  },
  {
   "cell_type": "code",
   "execution_count": 3,
   "metadata": {
    "collapsed": false
   },
   "outputs": [
    {
     "data": {
      "text/plain": [
       "20.099999999999998"
      ]
     },
     "execution_count": 3,
     "metadata": {},
     "output_type": "execute_result"
    }
   ],
   "source": [
    "#maxProfit2([7.5, 14.6, 7.8, 20.8, 2.2]) #should be 20.1\n",
    "\n",
    "14.6 - 7.5 + 20.8 - 7.8\n"
   ]
  },
  {
   "cell_type": "code",
   "execution_count": 5,
   "metadata": {
    "collapsed": false
   },
   "outputs": [
    {
     "data": {
      "text/plain": [
       "10"
      ]
     },
     "execution_count": 5,
     "metadata": {},
     "output_type": "execute_result"
    }
   ],
   "source": [
    "#maxProfit2([2.0, 4.0, 5.0, 3.0, 10.0]) #should be 10.0"
   ]
  },
  {
   "cell_type": "markdown",
   "metadata": {},
   "source": [
    "### 5. Longest Common Prefix (Homework)\n",
    "\n",
    "Write a function to find the longest common prefix string amongst an array of strings."
   ]
  },
  {
   "cell_type": "code",
   "execution_count": 75,
   "metadata": {
    "collapsed": false
   },
   "outputs": [],
   "source": [
    "def longestCommonPrefix(strs):\n",
    "    minstr = min(strs, key=len)\n",
    "    newstr = ''\n",
    "    for i in range(0, len(minstr)):\n",
    "        if strs[0][i] != strs[1][i]:\n",
    "            return newstr\n",
    "        newstr = newstr + strs[0][i]\n",
    "    return newstr\n",
    "        \n",
    "        \n",
    "    "
   ]
  },
  {
   "cell_type": "code",
   "execution_count": 76,
   "metadata": {
    "collapsed": false
   },
   "outputs": [
    {
     "data": {
      "text/plain": [
       "'a'"
      ]
     },
     "execution_count": 76,
     "metadata": {},
     "output_type": "execute_result"
    }
   ],
   "source": [
    "longestCommonPrefix([\"aa\", \"a\"])"
   ]
  },
  {
   "cell_type": "code",
   "execution_count": 77,
   "metadata": {
    "collapsed": false
   },
   "outputs": [
    {
     "name": "stdout",
     "output_type": "stream",
     "text": [
      "a b\n"
     ]
    },
    {
     "data": {
      "text/plain": [
       "''"
      ]
     },
     "execution_count": 77,
     "metadata": {},
     "output_type": "execute_result"
    }
   ],
   "source": [
    "longestCommonPrefix([\"a\", \"b\"])"
   ]
  },
  {
   "cell_type": "code",
   "execution_count": 78,
   "metadata": {
    "collapsed": false
   },
   "outputs": [
    {
     "name": "stdout",
     "output_type": "stream",
     "text": [
      "f 2\n"
     ]
    },
    {
     "data": {
      "text/plain": [
       "'ab'"
      ]
     },
     "execution_count": 78,
     "metadata": {},
     "output_type": "execute_result"
    }
   ],
   "source": [
    "longestCommonPrefix([\"abf3fd\", \"ab24b\"])"
   ]
  },
  {
   "cell_type": "code",
   "execution_count": null,
   "metadata": {
    "collapsed": true
   },
   "outputs": [],
   "source": []
  }
 ],
 "metadata": {
  "anaconda-cloud": {},
  "kernelspec": {
   "display_name": "Python 2",
   "language": "python",
   "name": "python2"
  },
  "language_info": {
   "codemirror_mode": {
    "name": "ipython",
    "version": 2
   },
   "file_extension": ".py",
   "mimetype": "text/x-python",
   "name": "python",
   "nbconvert_exporter": "python",
   "pygments_lexer": "ipython2",
   "version": "2.7.12"
  }
 },
 "nbformat": 4,
 "nbformat_minor": 0
}
