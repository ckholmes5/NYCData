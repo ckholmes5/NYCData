{
 "cells": [
  {
   "cell_type": "markdown",
   "metadata": {},
   "source": [
    "### Problem 1"
   ]
  },
  {
   "cell_type": "markdown",
   "metadata": {},
   "source": [
    "The sum of the squares of the first 10 natural numbers is: $$1^2+2^2+3^2+4^2+5^2+6^2+7^2+8^2+9^2+10^2=385.$$  The square of the sum of the first 10 natural numbers is $$(1+2+3+4+5+6+7+8+9+10)^2=3025.$$  Hence, the difference between the sum of the squares of the first ten natural numbers and the square of the sum is $3025-385=2640$.  \n",
    "<br><br>\n",
    "Find the difference between the sum of the squares of the first one hundred natural numbers and the square of the sum."
   ]
  },
  {
   "cell_type": "code",
   "execution_count": 7,
   "metadata": {
    "collapsed": false
   },
   "outputs": [],
   "source": [
    "# Write your code here.\n",
    "def problem_1():\n",
    "    sum_squares = 0\n",
    "    square_sum = 0\n",
    "    for i in range(1,101):\n",
    "        sum_squares += i ** 2\n",
    "        square_sum += i\n",
    "    square_sum = square_sum ** 2\n",
    "    return square_sum - sum_squares"
   ]
  },
  {
   "cell_type": "code",
   "execution_count": 8,
   "metadata": {
    "collapsed": false
   },
   "outputs": [
    {
     "data": {
      "text/plain": [
       "25164150"
      ]
     },
     "execution_count": 8,
     "metadata": {},
     "output_type": "execute_result"
    }
   ],
   "source": [
    "problem_1() #25164150"
   ]
  },
  {
   "cell_type": "markdown",
   "metadata": {},
   "source": [
    "### Problem 2"
   ]
  },
  {
   "cell_type": "markdown",
   "metadata": {},
   "source": [
    "$2^{15}=32768$, and the sum of its digits is $3+2+7+6+8=26$.\n",
    "<br><br>\n",
    "What is the sum of the digits of the number $2^{1000}$?"
   ]
  },
  {
   "cell_type": "code",
   "execution_count": 15,
   "metadata": {
    "collapsed": false
   },
   "outputs": [],
   "source": [
    "# Write your code here.\n",
    "def problem_2():\n",
    "    huge_num = 2 ** 1000\n",
    "    sum_digits = 0\n",
    "    for i in str(huge_num):\n",
    "        sum_digits += int(i)\n",
    "    return sum_digits"
   ]
  },
  {
   "cell_type": "code",
   "execution_count": 16,
   "metadata": {
    "collapsed": false
   },
   "outputs": [
    {
     "data": {
      "text/plain": [
       "1366"
      ]
     },
     "execution_count": 16,
     "metadata": {},
     "output_type": "execute_result"
    }
   ],
   "source": [
    "problem_2() #1366"
   ]
  },
  {
   "cell_type": "markdown",
   "metadata": {},
   "source": [
    "### Problem 3"
   ]
  },
  {
   "cell_type": "markdown",
   "metadata": {},
   "source": [
    "The Fibonacci sequence is defined by the recurrence relation $$F_1=F_2=1, \\hspace{.25in} F_n=F_{n-1}+F_{n-2}.$$  Hence, the first twelve terms will be:\n",
    "$$F_1=1 \\\\\n",
    "F_2=1 \\\\\n",
    "F_3=2 \\\\\n",
    "F_4=3 \\\\\n",
    "F_5=5 \\\\\n",
    "F_6=8 \\\\\n",
    "F_7=13 \\\\\n",
    "F_8=21 \\\\\n",
    "F_9=34 \\\\\n",
    "F_{10}=55 \\\\\n",
    "F_{11}=89 \\\\\n",
    "F_{12}=144.\n",
    "$$\n",
    "The twelfth term, $F_{12}$ is the first term to contain three digits.\n",
    "<br><br>\n",
    "What is the index of the first term of the Fibonacci sequence to contain over 1000 digits?"
   ]
  },
  {
   "cell_type": "code",
   "execution_count": 173,
   "metadata": {
    "collapsed": false
   },
   "outputs": [],
   "source": [
    "# Write your code here.\n",
    "def problem_3():\n",
    "    f_1 = 1\n",
    "    f_2 = 1\n",
    "    i = 1\n",
    "    while len(str(f_2)) < 1000 and len(str(f_2)) < 1000:\n",
    "        f_1 = f_1 + f_2\n",
    "        i += 1\n",
    "        if len(str(f_1)) >= 1000:\n",
    "            return i\n",
    "        f_2 = f_1 + f_2\n",
    "        i += 1\n",
    "    return i + 1\n",
    "        \n",
    "    \n",
    "    \n",
    "    "
   ]
  },
  {
   "cell_type": "code",
   "execution_count": 174,
   "metadata": {
    "collapsed": false
   },
   "outputs": [
    {
     "data": {
      "text/plain": [
       "4782"
      ]
     },
     "execution_count": 174,
     "metadata": {},
     "output_type": "execute_result"
    }
   ],
   "source": [
    "problem_3()"
   ]
  },
  {
   "cell_type": "markdown",
   "metadata": {},
   "source": [
    "### Problem 4"
   ]
  },
  {
   "cell_type": "markdown",
   "metadata": {},
   "source": [
    "Using the file names.txt (in the data folder), a 46K text file containing over five-thousand first names, begin by sorting it into alphabetical order. Then working out the alphabetical value for each name, multiply this value by its alphabetical position in the list to obtain a name score.\n",
    "<br><br>\n",
    "For example, when the list is sorted into alphabetical order, COLIN, which is worth $3+15+12+9+14=53$, is the 938th name in the list.  So, COLIN would receive a score of $938\\cdot53=49714$.  \n",
    "<br><br>\n",
    "What is the sum of all name scores in the list?"
   ]
  },
  {
   "cell_type": "code",
   "execution_count": 167,
   "metadata": {
    "collapsed": false
   },
   "outputs": [],
   "source": [
    "# Write your code here.\n",
    "def problem_4():\n",
    "    names = []\n",
    "    with open('/Users/cholmes/Desktop/Python_Code_Review_III/data/names.txt') as infile:\n",
    "        for i in infile:\n",
    "            name = ''\n",
    "            for j in i:\n",
    "                if j == ',':\n",
    "                    names.append(name)\n",
    "                    name = ''\n",
    "                elif j == '\"' or j == \"'\":\n",
    "                    pass\n",
    "                else:\n",
    "                    name = name + j\n",
    "        names.append('ALONSO')\n",
    "            \n",
    "    infile.closed\n",
    "    names.sort()\n",
    "    \n",
    "    value_dict = {'A': 1, 'B': 2, 'C': 3, 'D': 4, 'E': 5, 'F': 6, 'G': 7, 'H': 8, 'I': 9, 'J': 10, 'K': 11, 'L': 12, 'M': 13, 'N': 14, 'O': 15, 'P': 16, 'Q': 17, 'R': 18, 'S': 19, 'T': 20, 'U': 21, 'V': 22, 'W': 23, 'X': 24, 'Y': 25, 'Z': 26}\n",
    "    \n",
    "    position = 0\n",
    "    total_sum = 0\n",
    "    for name in names:\n",
    "        sum_name = 0\n",
    "        position += 1\n",
    "        for j in name:\n",
    "            sum_name += value_dict[j]\n",
    "        #print name, sum_name * position, position\n",
    "        total_sum += sum_name * position\n",
    "        \n",
    "    return total_sum\n",
    "        \n",
    "            "
   ]
  },
  {
   "cell_type": "code",
   "execution_count": 168,
   "metadata": {
    "collapsed": false
   },
   "outputs": [
    {
     "data": {
      "text/plain": [
       "871198282"
      ]
     },
     "execution_count": 168,
     "metadata": {},
     "output_type": "execute_result"
    }
   ],
   "source": [
    "problem_4() #871198282  871193758 "
   ]
  },
  {
   "cell_type": "markdown",
   "metadata": {},
   "source": [
    "### Problem 5. Implement Singly Linked List Class (Homework)\n",
    "\n",
    "Linked list is a very popular data structure that can be used in multiple real life applications like:\n",
    "\n",
    "- A great way to represent a deck of cards in a game.\n",
    "- The browser cache which allows you to hit the BACK button (a linked list of URLs) \n",
    "- Applications that have a Most Recently Used (MRU) list (a linked list of file names) \n",
    "- Undo functionality in Photoshop or Word (a linked list of state)\n",
    "\n",
    "\n",
    "In this assignment, we want to implement a singly linked list class. Please read the following tutorial to get more idea what a linked list is.\n",
    "\n",
    "http://interactivepython.org/runestone/static/pythonds/BasicDS/ImplementinganUnorderedListLinkedLists.html"
   ]
  },
  {
   "cell_type": "code",
   "execution_count": 5,
   "metadata": {
    "collapsed": true
   },
   "outputs": [],
   "source": [
    "#### Here is a little demonstration the relation between Node and LinkedList\n",
    "\n",
    "class Node(object):\n",
    "\n",
    "    def __init__(self, data, next_node=None):\n",
    "        self.next_ = next_node\n",
    "        self.data = data\n",
    "\n",
    "    def __str__(self):\n",
    "        return str(self.data)\n",
    "\n",
    "\n",
    "class LinkedList(object):\n",
    "\n",
    "    def __init__(self, head=None):\n",
    "        self.head = head\n",
    "\n",
    "A = Node(1)\n",
    "B = Node(2)\n",
    "C = Node(3)\n",
    "D = Node(4)\n",
    "\n",
    "lst = LinkedList()\n",
    "lst.head = A\n",
    "curr = lst.head\n",
    "for i in [B, C, D]:\n",
    "    curr.next_ = i\n",
    "    curr = curr.next_"
   ]
  },
  {
   "cell_type": "code",
   "execution_count": 6,
   "metadata": {
    "collapsed": false
   },
   "outputs": [
    {
     "data": {
      "text/plain": [
       "<__main__.LinkedList at 0x109538050>"
      ]
     },
     "execution_count": 6,
     "metadata": {},
     "output_type": "execute_result"
    }
   ],
   "source": [
    "#### lst is a LinkedList object\n",
    "lst"
   ]
  },
  {
   "cell_type": "code",
   "execution_count": 7,
   "metadata": {
    "collapsed": false
   },
   "outputs": [
    {
     "data": {
      "text/plain": [
       "<__main__.Node at 0x1094fcdd0>"
      ]
     },
     "execution_count": 7,
     "metadata": {},
     "output_type": "execute_result"
    }
   ],
   "source": [
    "#### lst.head is a Node object\n",
    "lst.head"
   ]
  },
  {
   "cell_type": "code",
   "execution_count": 8,
   "metadata": {
    "collapsed": false
   },
   "outputs": [
    {
     "name": "stdout",
     "output_type": "stream",
     "text": [
      "1\n"
     ]
    }
   ],
   "source": [
    "#### We have already implemented __str__ function for a Node object\n",
    "print lst.head"
   ]
  },
  {
   "cell_type": "code",
   "execution_count": 9,
   "metadata": {
    "collapsed": false
   },
   "outputs": [
    {
     "name": "stdout",
     "output_type": "stream",
     "text": [
      "2\n",
      "3\n",
      "4\n",
      "None\n"
     ]
    }
   ],
   "source": [
    "#### And a Node object has the next_ attribute\n",
    "print lst.head.next_\n",
    "print lst.head.next_.next_\n",
    "print lst.head.next_.next_.next_\n",
    "print lst.head.next_.next_.next_.next_"
   ]
  },
  {
   "cell_type": "code",
   "execution_count": 10,
   "metadata": {
    "collapsed": true
   },
   "outputs": [],
   "source": [
    "#### Your code here\n",
    "\n",
    "class Node(object):\n",
    "\n",
    "    def __init__(self, data, next_node=None):\n",
    "        self.next_ = next_node\n",
    "        self.data = data\n",
    "\n",
    "    def __str__(self):\n",
    "        return str(self.data)\n",
    "\n",
    "\n",
    "class LinkedList(object):\n",
    "\n",
    "    def __init__(self, head=None):\n",
    "        self.head = head\n",
    "\n",
    "        \n",
    "    def __len__(self):\n",
    "    # return the length of linked list\n",
    "\n",
    "    \n",
    "    def __str__(self):\n",
    "    # Implement __str__ method so that we can print out \n",
    "    # a LinkedList properly\n",
    "\n",
    "    \n",
    "    def insert_to_front(self, data):\n",
    "    # If the data we are inserting is None, return\n",
    "    # Create a node with the input data\n",
    "    # If this is an empty list, assign the head to the node\n",
    "    # Else set the node.next to the head and set the head to the node\n",
    "\n",
    "\n",
    "    def append(self, data, next_node=None):\n",
    "    # If the data we are inserting is None, return\n",
    "    # Create a node with the input data\n",
    "    # If this is an empty list, assign the head to the node\n",
    "    # Else iterate to the end of the list and set the final node's next to the new node\n",
    "\n",
    "    \n",
    "    def find(self, data):\n",
    "    # If data we are finding is None, return\n",
    "    # If the list is empty, return\n",
    "    # For each node, if the value is a match, return it; \n",
    "    # else, move on to the next node\n",
    "    \n",
    "    "
   ]
  },
  {
   "cell_type": "code",
   "execution_count": 11,
   "metadata": {
    "collapsed": true
   },
   "outputs": [],
   "source": [
    "#### Let's create another LinkedList here\n",
    "lst_1=LinkedList()\n",
    "for i in [1, 2, 3, 4, 5, 6]:\n",
    "    lst_1.append(i)"
   ]
  },
  {
   "cell_type": "code",
   "execution_count": 12,
   "metadata": {
    "collapsed": false
   },
   "outputs": [
    {
     "name": "stdout",
     "output_type": "stream",
     "text": [
      "[1, 2, 3, 4, 5, 6]\n"
     ]
    }
   ],
   "source": [
    "#### Test on the __str__ function\n",
    "print lst_1"
   ]
  },
  {
   "cell_type": "code",
   "execution_count": 13,
   "metadata": {
    "collapsed": false
   },
   "outputs": [
    {
     "name": "stdout",
     "output_type": "stream",
     "text": [
      "[1, 2, 3, 4, 5, 6, 7]\n"
     ]
    }
   ],
   "source": [
    "#### Test on the append function\n",
    "lst_1.append(7)\n",
    "print lst_1"
   ]
  },
  {
   "cell_type": "code",
   "execution_count": 18,
   "metadata": {
    "collapsed": false
   },
   "outputs": [
    {
     "name": "stdout",
     "output_type": "stream",
     "text": [
      "3\n"
     ]
    }
   ],
   "source": [
    "#### Test on the find function; What does the function return to us?\n",
    "print lst_1.find(3)"
   ]
  },
  {
   "cell_type": "code",
   "execution_count": 19,
   "metadata": {
    "collapsed": false
   },
   "outputs": [
    {
     "name": "stdout",
     "output_type": "stream",
     "text": [
      "[8, 8, 1, 2, 3, 4, 5, 6, 7]\n"
     ]
    }
   ],
   "source": [
    "#### Test on the insert_to_front function\n",
    "lst_1.insert_to_front(8)\n",
    "print lst_1"
   ]
  },
  {
   "cell_type": "code",
   "execution_count": null,
   "metadata": {
    "collapsed": true
   },
   "outputs": [],
   "source": []
  }
 ],
 "metadata": {
  "anaconda-cloud": {},
  "kernelspec": {
   "display_name": "Python [Root]",
   "language": "python",
   "name": "Python [Root]"
  },
  "language_info": {
   "codemirror_mode": {
    "name": "ipython",
    "version": 2
   },
   "file_extension": ".py",
   "mimetype": "text/x-python",
   "name": "python",
   "nbconvert_exporter": "python",
   "pygments_lexer": "ipython2",
   "version": "2.7.11"
  }
 },
 "nbformat": 4,
 "nbformat_minor": 0
}
