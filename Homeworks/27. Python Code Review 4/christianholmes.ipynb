{
 "cells": [
  {
   "cell_type": "markdown",
   "metadata": {},
   "source": [
    "### Problem 1. Implement sqrt(x).\n",
    "\n",
    "Compute and return the square root of x using your own function.\n",
    "\n",
    "**Hint**:\n",
    "\n",
    "+ Do we need to iterate through all the values from 0 to x-1 and check whether the square of them? \n",
    "+ Actually it is interesting to note that: $( \\frac{x}{2} + 1) ^{2} = x + \\frac{ x^{2}}{4} + 1 > x$\n",
    "+ To make the algorithm runs even faster, binary search is your friend. http://interactivepython.org/runestone/static/pythonds/SortSearch/TheBinarySearch.html\n",
    "+ You can assume that all the inputs have square root."
   ]
  },
  {
   "cell_type": "code",
   "execution_count": 5,
   "metadata": {
    "collapsed": false
   },
   "outputs": [],
   "source": [
    "#### Your code here\n",
    "\n",
    "def sqrt(x):\n",
    "    square_j = 0\n",
    "    j = 0\n",
    "    while square_j != x:\n",
    "        j+= 1\n",
    "        square_j = j*j\n",
    "    return j\n",
    "        \n",
    "    "
   ]
  },
  {
   "cell_type": "code",
   "execution_count": 6,
   "metadata": {
    "collapsed": false
   },
   "outputs": [
    {
     "data": {
      "text/plain": [
       "0"
      ]
     },
     "execution_count": 6,
     "metadata": {},
     "output_type": "execute_result"
    }
   ],
   "source": [
    "sqrt(0) # 0"
   ]
  },
  {
   "cell_type": "code",
   "execution_count": 7,
   "metadata": {
    "collapsed": false
   },
   "outputs": [
    {
     "data": {
      "text/plain": [
       "8"
      ]
     },
     "execution_count": 7,
     "metadata": {},
     "output_type": "execute_result"
    }
   ],
   "source": [
    "sqrt(64) # 8"
   ]
  },
  {
   "cell_type": "code",
   "execution_count": 8,
   "metadata": {
    "collapsed": false
   },
   "outputs": [
    {
     "data": {
      "text/plain": [
       "11"
      ]
     },
     "execution_count": 8,
     "metadata": {},
     "output_type": "execute_result"
    }
   ],
   "source": [
    "sqrt(121) # 11"
   ]
  },
  {
   "cell_type": "markdown",
   "metadata": {},
   "source": [
    "### Problem 2. Two Sum II - Input array is sorted\n",
    "\n",
    "Given an array of integers that is already sorted in ascending order, find two numbers such that they add up to a specific target number.\n",
    "\n",
    "The function twoSum should return indices of the two numbers such that they add up to the target, where index1 must be less than index2.\n",
    "\n",
    "**Hint**:\n",
    "\n",
    "+ Last time we introduced a tricky solution using a dictionary. However, this time the input arrary is sorted, which means we can make our solution even faster using a similar approach like binary search.\n",
    "+ We will have two pointers pointing to the beginning and the end of the list. For each iteration, we check the sum of the values of two pointers. If it equals to the target, we just return the index of those two pointers. Otherwise we either move the left pointer or the right one accordingly.\n",
    "+ You may assume that each input would have exactly one solution."
   ]
  },
  {
   "cell_type": "code",
   "execution_count": 61,
   "metadata": {
    "collapsed": true
   },
   "outputs": [],
   "source": [
    "def twoSum(numbers, target):\n",
    "    \"\"\"\n",
    "    :type numbers: List[int]\n",
    "    :type target: int\n",
    "    :rtype: List[int]\n",
    "    \"\"\"\n",
    "    for i in range(0,len(numbers)):\n",
    "        for j in range(i + 1,len(numbers)):\n",
    "            if numbers[i] + numbers[j] == target:\n",
    "                if i < j:\n",
    "                    return [i,j]\n",
    "                return [j,i]\n",
    "    return None\n",
    "        \n"
   ]
  },
  {
   "cell_type": "code",
   "execution_count": 62,
   "metadata": {
    "collapsed": false
   },
   "outputs": [
    {
     "data": {
      "text/plain": [
       "[2, 3]"
      ]
     },
     "execution_count": 62,
     "metadata": {},
     "output_type": "execute_result"
    }
   ],
   "source": [
    "twoSum([1,2,3,3], 6) # [2, 3]"
   ]
  },
  {
   "cell_type": "code",
   "execution_count": 63,
   "metadata": {
    "collapsed": false
   },
   "outputs": [
    {
     "data": {
      "text/plain": [
       "[0, 2]"
      ]
     },
     "execution_count": 63,
     "metadata": {},
     "output_type": "execute_result"
    }
   ],
   "source": [
    "twoSum([4,5,8,9], 12) # [0, 2]"
   ]
  },
  {
   "cell_type": "code",
   "execution_count": 64,
   "metadata": {
    "collapsed": false
   },
   "outputs": [],
   "source": [
    "twoSum([1,2,4], 8) # None"
   ]
  },
  {
   "cell_type": "markdown",
   "metadata": {},
   "source": [
    "### Problem 3. Linked List Cycle\n",
    "\n",
    "Given a linked list, determine if it has a cycle in it.\n",
    "\n",
    "**Hint**: One trick to find whether there is a linked list has cycle is to set up two pointers, one called slow and the other one called fast. Slow pointer moves one step once a time and fast pointer moves twice a time. If they meet with each other at some point, then there is a cycle."
   ]
  },
  {
   "cell_type": "code",
   "execution_count": 66,
   "metadata": {
    "collapsed": true
   },
   "outputs": [],
   "source": [
    "# The definition of node and linkedlist from the previous code review\n",
    "\n",
    "class Node(object):\n",
    "\n",
    "    def __init__(self, data, next_node=None):\n",
    "        self.next_ = next_node\n",
    "        self.data = data\n",
    "\n",
    "    def __str__(self):\n",
    "        return str(self.data)\n",
    "    \n",
    "class LinkedList(object):\n",
    "\n",
    "    def __init__(self, head=None):\n",
    "        self.head = head\n",
    "    \n",
    "    def append(self, data, next_node=None):\n",
    "        if data is None:\n",
    "            return\n",
    "        node = Node(data, next_node)\n",
    "        if self.head is None:\n",
    "            self.head = node\n",
    "        else:\n",
    "            curr_node = self.head\n",
    "            while curr_node.next_ is not None:\n",
    "                curr_node = curr_node.next_\n",
    "            curr_node.next_ = node\n",
    "        return "
   ]
  },
  {
   "cell_type": "code",
   "execution_count": 78,
   "metadata": {
    "collapsed": true
   },
   "outputs": [],
   "source": [
    "#### Your code here   \n",
    "\n",
    "def hasCycle(lst):\n",
    "    \"\"\"\n",
    "    :type lst: LinedList\n",
    "    :rtype: Boolean\n",
    "    \"\"\"\n",
    "    slow = lst.head\n",
    "    fast = lst.head\n",
    "    \n",
    "    while fast:\n",
    "        slow = slow.next_\n",
    "        fast = fast.next_.next_\n",
    "        if slow == fast:\n",
    "            return True\n",
    "    return False\n",
    "        \n",
    "        \n",
    "        \n"
   ]
  },
  {
   "cell_type": "code",
   "execution_count": 79,
   "metadata": {
    "collapsed": false
   },
   "outputs": [],
   "source": [
    "#### Here we create two LinkedLists with one of them containing a cycle\n",
    "\n",
    "lst_1=LinkedList()\n",
    "for i in [1, 2, 3, 4, 5, 6]:\n",
    "    lst_1.append(i)\n",
    "\n",
    "A = Node(1)\n",
    "B = Node(2)\n",
    "C = Node(3)\n",
    "D = Node(4)\n",
    "\n",
    "lst_2 = LinkedList(A)\n",
    "curr = lst_2.head\n",
    "for i in [B, C, B]:\n",
    "    curr.next_  = i\n",
    "    curr = curr.next_\n",
    "    "
   ]
  },
  {
   "cell_type": "code",
   "execution_count": 80,
   "metadata": {
    "collapsed": false
   },
   "outputs": [
    {
     "data": {
      "text/plain": [
       "True"
      ]
     },
     "execution_count": 80,
     "metadata": {},
     "output_type": "execute_result"
    }
   ],
   "source": [
    "hasCycle(lst_2) # True"
   ]
  },
  {
   "cell_type": "code",
   "execution_count": 81,
   "metadata": {
    "collapsed": false
   },
   "outputs": [
    {
     "data": {
      "text/plain": [
       "False"
      ]
     },
     "execution_count": 81,
     "metadata": {},
     "output_type": "execute_result"
    }
   ],
   "source": [
    "hasCycle(lst_1) # False"
   ]
  },
  {
   "cell_type": "markdown",
   "metadata": {},
   "source": [
    "### Problem 4.  Longest Palindromic Substring (Homework)\n",
    "\n",
    "Given a string S, find the longest palindromic substring in S. You may assume that the maximum length of S is 1000, and there exists one unique longest palindromic substring.\n",
    "\n",
    "**Hint**:\n",
    "\n",
    "+ We have already known how to check whether a string is palindromic or not. That is simply s == s[::-1]\n",
    "+ The idea stays the same when we want to find out the longest palindromic substring.\n",
    "+ When we have a new character in our string, if it contributes to a palindromic substring, then there are two cases:\n",
    "\n",
    "    1. odd case, like \"aba\"\n",
    "    2. even case, like \"abba\"\n",
    "\n",
    "+ So we can iterate through all the characters in the string and for each character, we check whether it is case 1 or 2. If the length of palindromic substring we get is longer than the previous one, we just update our return value"
   ]
  },
  {
   "cell_type": "code",
   "execution_count": 11,
   "metadata": {
    "collapsed": true
   },
   "outputs": [],
   "source": [
    "def longestPalindrome(s):\n",
    "    \"\"\"\n",
    "    :type s: string\n",
    "    :rtype: string\n",
    "    \"\"\"\n"
   ]
  },
  {
   "cell_type": "code",
   "execution_count": 96,
   "metadata": {
    "collapsed": false
   },
   "outputs": [
    {
     "data": {
      "text/plain": [
       "'abcddcba'"
      ]
     },
     "execution_count": 96,
     "metadata": {},
     "output_type": "execute_result"
    }
   ],
   "source": [
    "longestPalindrome('hjtyabcddcbafsadf') # abcddcba"
   ]
  },
  {
   "cell_type": "code",
   "execution_count": 95,
   "metadata": {
    "collapsed": false
   },
   "outputs": [
    {
     "data": {
      "text/plain": [
       "'abccba'"
      ]
     },
     "execution_count": 95,
     "metadata": {},
     "output_type": "execute_result"
    }
   ],
   "source": [
    "longestPalindrome('abccba') # abccba"
   ]
  },
  {
   "cell_type": "code",
   "execution_count": 98,
   "metadata": {
    "collapsed": false
   },
   "outputs": [
    {
     "data": {
      "text/plain": [
       "'fsdsf'"
      ]
     },
     "execution_count": 98,
     "metadata": {},
     "output_type": "execute_result"
    }
   ],
   "source": [
    "longestPalindrome('yabcdchjfsdsf') # cdc"
   ]
  },
  {
   "cell_type": "markdown",
   "metadata": {},
   "source": [
    "### Problem 5. Find Peak Element (Homework)\n",
    "\n",
    "A peak element is an element that is greater than its neighbors.\n",
    "\n",
    "Given an input array where num[i] ≠ num[i+1], find a peak element and return its index.\n",
    "\n",
    "The array may contain multiple peaks, in that case return the index to any one of the peaks is fine.\n",
    "\n",
    "You may imagine that num[-1] = num[n] = -∞.\n",
    "\n",
    "For example, in array [1, 2, 3, 1], 3 is a peak element and your function should return the index number 2.\n",
    "\n",
    "** Again, binary search is your friend. **"
   ]
  },
  {
   "cell_type": "code",
   "execution_count": 102,
   "metadata": {
    "collapsed": true
   },
   "outputs": [],
   "source": [
    "def findPeakElement(nums):\n",
    "    \"\"\"\n",
    "    :type nums: List[int]\n",
    "    :rtype: int\n",
    "    \"\"\"\n"
   ]
  },
  {
   "cell_type": "code",
   "execution_count": 109,
   "metadata": {
    "collapsed": false
   },
   "outputs": [
    {
     "data": {
      "text/plain": [
       "0"
      ]
     },
     "execution_count": 109,
     "metadata": {},
     "output_type": "execute_result"
    }
   ],
   "source": [
    "findPeakElement([4,3,2,1]) # 0"
   ]
  },
  {
   "cell_type": "code",
   "execution_count": 110,
   "metadata": {
    "collapsed": false
   },
   "outputs": [
    {
     "data": {
      "text/plain": [
       "3"
      ]
     },
     "execution_count": 110,
     "metadata": {},
     "output_type": "execute_result"
    }
   ],
   "source": [
    "findPeakElement([1,2,3,4]) # 3"
   ]
  },
  {
   "cell_type": "code",
   "execution_count": 111,
   "metadata": {
    "collapsed": false
   },
   "outputs": [
    {
     "data": {
      "text/plain": [
       "4"
      ]
     },
     "execution_count": 111,
     "metadata": {},
     "output_type": "execute_result"
    }
   ],
   "source": [
    "findPeakElement([1,4,3,5,8,2]) # 4"
   ]
  },
  {
   "cell_type": "code",
   "execution_count": null,
   "metadata": {
    "collapsed": true
   },
   "outputs": [],
   "source": []
  }
 ],
 "metadata": {
  "anaconda-cloud": {},
  "kernelspec": {
   "display_name": "Python [Root]",
   "language": "python",
   "name": "Python [Root]"
  },
  "language_info": {
   "codemirror_mode": {
    "name": "ipython",
    "version": 2
   },
   "file_extension": ".py",
   "mimetype": "text/x-python",
   "name": "python",
   "nbconvert_exporter": "python",
   "pygments_lexer": "ipython2",
   "version": "2.7.11"
  }
 },
 "nbformat": 4,
 "nbformat_minor": 0
}
