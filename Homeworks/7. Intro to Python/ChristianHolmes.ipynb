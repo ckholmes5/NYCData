{
 "cells": [
  {
   "cell_type": "markdown",
   "metadata": {},
   "source": [
    "### Problem 1\n",
    "\n",
    "We discuss functional operators such as `map`, `filter` and `reduce`. They all can take a function as argument. In the first question we inspect the fact in a more fundamental way.\n",
    "\n",
    "- Define a function `apply_to_zero()` which takes a function and return the whatever the function returns when passing 0 to it. More precisely, the function is like:\n",
    "\n",
    "```\n",
    "apply_to_zero(math.sin) ---> sin(0) ---> 0\n",
    "apply_to_zero(math.cos) ---> cos(0) ---> 1\n",
    "apply_to_zero(math.exp) ---> exp(0) ---> 1\n",
    "```"
   ]
  },
  {
   "cell_type": "code",
   "execution_count": 1,
   "metadata": {
    "collapsed": false
   },
   "outputs": [],
   "source": [
    "def apply_to_zero(x):\n",
    "    return x(0)"
   ]
  },
  {
   "cell_type": "code",
   "execution_count": 2,
   "metadata": {
    "collapsed": false
   },
   "outputs": [
    {
     "name": "stdout",
     "output_type": "stream",
     "text": [
      "0.0\n",
      "1.0\n",
      "1.0\n"
     ]
    }
   ],
   "source": [
    "#### Test\n",
    "import math\n",
    "\n",
    "print apply_to_zero(math.sin)\n",
    "print apply_to_zero(math.cos)\n",
    "print apply_to_zero(math.exp)"
   ]
  },
  {
   "cell_type": "markdown",
   "metadata": {},
   "source": [
    "- Create a list of the function `math.sin`, `math.cos` and `math.exp`. Call this list `func_lst`."
   ]
  },
  {
   "cell_type": "code",
   "execution_count": 3,
   "metadata": {
    "collapsed": false
   },
   "outputs": [],
   "source": [
    "func_lst = [math.sin, math.cos, math.exp]"
   ]
  },
  {
   "cell_type": "markdown",
   "metadata": {},
   "source": [
    "- Apply all the functions in `func_lst` to 3. Do this either with `map`, `lambda` or list coprehension."
   ]
  },
  {
   "cell_type": "code",
   "execution_count": 4,
   "metadata": {
    "collapsed": false
   },
   "outputs": [
    {
     "name": "stdout",
     "output_type": "stream",
     "text": [
      "[0.1411200080598672]\n",
      "[-0.9899924966004454]\n",
      "[20.085536923187668]\n"
     ]
    }
   ],
   "source": [
    "for i in func_lst:\n",
    "    print map(i, [3])\n",
    "    \n",
    "# D.D. - Maybe expecting something more along the lines of map(lambda f: f(3), func_list).  "
   ]
  },
  {
   "cell_type": "markdown",
   "metadata": {},
   "source": [
    "- Compute $\\exp((\\cos(\\sin(0))))$ with `reduce` and `func_lst`."
   ]
  },
  {
   "cell_type": "code",
   "execution_count": 5,
   "metadata": {
    "collapsed": false
   },
   "outputs": [
    {
     "data": {
      "text/plain": [
       "2.718281828459045"
      ]
     },
     "execution_count": 5,
     "metadata": {},
     "output_type": "execute_result"
    }
   ],
   "source": [
    "reduce(lambda x,y: y(x), func_lst, 0)\n",
    "# D.D. - Nice use of reduce!  You can also do this with higher order functions (functions that either\n",
    "# accept functions as arguments or return functions), e.g., start by defining \n",
    "# def compose(f, g): return lambda x: g(f(x))\n",
    "# and then let fun = reduce(lambda f, g: compose(f, g), fun_list).  The answer is found by fun(0).  "
   ]
  },
  {
   "cell_type": "markdown",
   "metadata": {},
   "source": [
    "###  Problem 2\n",
    "- The function map can be used for multiple lists. Assume the list **Lst** below record the price of 6 consecutive days. Compute the daily return. \n",
    "**Hint**: Since we have data for 6 days, we have only 5 daily return."
   ]
  },
  {
   "cell_type": "code",
   "execution_count": 6,
   "metadata": {
    "collapsed": false
   },
   "outputs": [
    {
     "name": "stdout",
     "output_type": "stream",
     "text": [
      "The return for day 1 was 0.1\n",
      "The return for day 2 was 0.0909090909091\n",
      "The return for day 3 was 0.0833333333333\n",
      "The return for day 4 was 0.0769230769231\n",
      "The return for day 5 was 0.0714285714286\n"
     ]
    }
   ],
   "source": [
    "Lst=[10.,11.,12.,13.,14.,15.]\n",
    "for i in range(0,len(Lst)-1):\n",
    "    print 'The return for day', i +1, 'was',(Lst[i+1] - Lst[i])/Lst[i]\n",
    "    \n",
    "# D.D. - The mention of the multi-list version of map is meant to imply that you should\n",
    "# use it to solve the problem.  "
   ]
  },
  {
   "cell_type": "markdown",
   "metadata": {},
   "source": [
    "- Find the returns that are greater than 8%"
   ]
  },
  {
   "cell_type": "code",
   "execution_count": 7,
   "metadata": {
    "collapsed": false
   },
   "outputs": [
    {
     "name": "stdout",
     "output_type": "stream",
     "text": [
      "[0.1, 0.09090909090909091, 0.08333333333333333]\n"
     ]
    }
   ],
   "source": [
    "returns = []\n",
    "for i in range(0,len(Lst)-1):\n",
    "    if (Lst[i+1] - Lst[i])/Lst[i] > .08:\n",
    "        returns.append((Lst[i+1] - Lst[i])/Lst[i])\n",
    "print returns\n",
    "# D.D. - If you had a list `returns` from the previous part, you \n",
    "# could simply do filter(lambda x: x > .08, returns).  "
   ]
  },
  {
   "cell_type": "markdown",
   "metadata": {},
   "source": [
    "- Find the days with returns greater than 8%. Your code need to report if it's the first day, second day...etc"
   ]
  },
  {
   "cell_type": "code",
   "execution_count": 8,
   "metadata": {
    "collapsed": false
   },
   "outputs": [
    {
     "name": "stdout",
     "output_type": "stream",
     "text": [
      "[(1, 0.1), (2, 0.09090909090909091), (3, 0.08333333333333333)]\n"
     ]
    }
   ],
   "source": [
    "#### Your code here\n",
    "returns = []\n",
    "for i in range(0,len(Lst)-1):\n",
    "    if (Lst[i+1] - Lst[i])/Lst[i] > .08:\n",
    "        tup1 = (i + 1, (Lst[i+1] - Lst[i])/Lst[i])\n",
    "        returns.append(tup1)\n",
    "        \n",
    "print returns"
   ]
  },
  {
   "cell_type": "markdown",
   "metadata": {},
   "source": [
    "### Problem 3\n",
    "- Revisit your application problem. Use the list comprehension this time:\n",
    "*Sum up the numbers divided by 3 or 5 from 1 to 999.*"
   ]
  },
  {
   "cell_type": "code",
   "execution_count": 9,
   "metadata": {
    "collapsed": false
   },
   "outputs": [
    {
     "data": {
      "text/plain": [
       "233168"
      ]
     },
     "execution_count": 9,
     "metadata": {},
     "output_type": "execute_result"
    }
   ],
   "source": [
    "three_five = []\n",
    "for i in range(1,1000):\n",
    "    if i % 3 == 0 or i % 5 == 0:\n",
    "        three_five.append(i)\n",
    "sum(three_five)\n",
    "\n",
    "# D.D. - You should use list comprehension, like the problem requests:\n",
    "# sum([n for n in range(1, 1000) if n % 3 == 0 or n % 5 == 0])."
   ]
  },
  {
   "cell_type": "markdown",
   "metadata": {},
   "source": [
    "- List comprehension with more complicated condition. Consider the list below, use list comprehension to assign 'a' to the numbers greater than 8; 'b' to the numbers less or equal to 8."
   ]
  },
  {
   "cell_type": "code",
   "execution_count": 10,
   "metadata": {
    "collapsed": false
   },
   "outputs": [
    {
     "name": "stdout",
     "output_type": "stream",
     "text": [
      "['b', 'b', 'b', 'b', 'b', 'b', 'b', 'a', 'a', 'a']\n"
     ]
    }
   ],
   "source": [
    "Lst=range(1, 11)\n",
    "newLst = []\n",
    "for i in Lst:\n",
    "    if i < 8:\n",
    "        newLst.append('b')\n",
    "    else:\n",
    "        newLst.append('a')\n",
    "print newLst\n",
    "\n",
    "#### Your code here\n",
    "# D.D. - Again, please use list comprehension.  "
   ]
  },
  {
   "cell_type": "markdown",
   "metadata": {},
   "source": [
    "- Again use list comprehension to assign 'a' to the numbers greater than 8; 'b' to the numbers less or equal to 8 and greater than 5; 'c' to everything else."
   ]
  },
  {
   "cell_type": "code",
   "execution_count": 11,
   "metadata": {
    "collapsed": false
   },
   "outputs": [
    {
     "name": "stdout",
     "output_type": "stream",
     "text": [
      "['c', 'c', 'c', 'c', 'c', 'b', 'b', 'b', 'a', 'a']\n"
     ]
    }
   ],
   "source": [
    "Lst=range(1, 11)\n",
    "newLst = []\n",
    "for i in Lst:\n",
    "    if i > 8:\n",
    "        newLst.append('a')\n",
    "    elif i <= 5:\n",
    "        newLst.append('c')\n",
    "    else:\n",
    "        newLst.append('b')\n",
    "print newLst\n",
    "# D.D. - See above.  "
   ]
  },
  {
   "cell_type": "markdown",
   "metadata": {},
   "source": [
    "### Problem 4\n",
    "- For the list, **Lst**, below, square all its elements."
   ]
  },
  {
   "cell_type": "code",
   "execution_count": 12,
   "metadata": {
    "collapsed": false
   },
   "outputs": [
    {
     "name": "stdout",
     "output_type": "stream",
     "text": [
      "[1, 4, 9]\n"
     ]
    }
   ],
   "source": [
    "Lst=[1,2,3]\n",
    "for i in range(0, len(Lst)):\n",
    "    Lst[i] = Lst[i] * Lst[i]\n",
    "print Lst\n",
    "\n",
    "# D.D. - map(lambda x: x*x, Lst) or [x*x for x in Lst] are better.  "
   ]
  },
  {
   "cell_type": "markdown",
   "metadata": {},
   "source": [
    "- For the nested list, **Lst**, below, square all the elements in each inner list."
   ]
  },
  {
   "cell_type": "code",
   "execution_count": 13,
   "metadata": {
    "collapsed": false
   },
   "outputs": [
    {
     "name": "stdout",
     "output_type": "stream",
     "text": [
      "[[1, 4, 9], [4, 9, 16], [9, 16, 25]]\n"
     ]
    }
   ],
   "source": [
    "Lst = [[1,2,3],[2,3,4],[3,4,5]]\n",
    "\n",
    "for i in range(0, len(Lst)):\n",
    "    for j in range(0, len(Lst[i])):\n",
    "        Lst[i][j] = Lst[i][j] * Lst[i][j]\n",
    "print Lst\n",
    "\n",
    "#### Your code here\n",
    "# D.D. - Again, see if you can use map.  If you ever have a nested `for` loop, you should\n",
    "# always pause and see if you can do it another way.  "
   ]
  },
  {
   "cell_type": "markdown",
   "metadata": {},
   "source": [
    "- For the same nested list, **Lst**, keep the first inner list, square the second and cube the last one."
   ]
  },
  {
   "cell_type": "code",
   "execution_count": 14,
   "metadata": {
    "collapsed": false,
    "scrolled": true
   },
   "outputs": [
    {
     "name": "stdout",
     "output_type": "stream",
     "text": [
      "[[1, 2, 3], [4, 9, 16], [27, 64, 125]]\n"
     ]
    }
   ],
   "source": [
    "Lst = [[1,2,3],[2,3,4],[3,4,5]]\n",
    "\n",
    "for i in range(0, len(Lst)):\n",
    "    for j in range(0, len(Lst[i])):\n",
    "        if i == 0:\n",
    "            Lst[i][j] = Lst[i][j]\n",
    "        elif i == 1:\n",
    "            Lst[i][j] = Lst[i][j] * Lst[i][j]\n",
    "        else:\n",
    "            Lst[i][j] = Lst[i][j] * Lst[i][j] * Lst[i][j]\n",
    "print Lst\n",
    "\n",
    "# D.D. - Same.  "
   ]
  },
  {
   "cell_type": "code",
   "execution_count": null,
   "metadata": {
    "collapsed": true
   },
   "outputs": [],
   "source": []
  }
 ],
 "metadata": {
  "anaconda-cloud": {},
  "kernelspec": {
   "display_name": "Python 2",
   "language": "python",
   "name": "python2"
  },
  "language_info": {
   "codemirror_mode": {
    "name": "ipython",
    "version": 2
   },
   "file_extension": ".py",
   "mimetype": "text/x-python",
   "name": "python",
   "nbconvert_exporter": "python",
   "pygments_lexer": "ipython2",
   "version": "2.7.11"
  }
 },
 "nbformat": 4,
 "nbformat_minor": 0
}
