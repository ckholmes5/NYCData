{
 "cells": [
  {
   "cell_type": "markdown",
   "metadata": {},
   "source": [
    "### 1. Implement pow(x, n)\n",
    "+ Write your own function instead of using the built in pow()\n",
    "+ Input parameter n could be negative.\n",
    "+ **Hint**: use recursion instead of doing it iteratively"
   ]
  },
  {
   "cell_type": "code",
   "execution_count": 44,
   "metadata": {
    "collapsed": false
   },
   "outputs": [],
   "source": [
    "# Iterative solution\n",
    "def myPow(x, n):\n",
    "    res = 1\n",
    "    for i in range(n):\n",
    "        res = res * x\n",
    "    return res\n",
    "\n",
    "# Do it recursively\n",
    "def myPow(x, n):\n",
    "    if (n==0):\n",
    "        return 1\n",
    "    if (n<0):\n",
    "        n=abs(n)\n",
    "        x=1/float(x)\n",
    "    return x*myPow(x,n-1)\n",
    "    \n",
    "    "
   ]
  },
  {
   "cell_type": "code",
   "execution_count": 45,
   "metadata": {
    "collapsed": false
   },
   "outputs": [
    {
     "data": {
      "text/plain": [
       "64"
      ]
     },
     "execution_count": 45,
     "metadata": {},
     "output_type": "execute_result"
    }
   ],
   "source": [
    "myPow(4,3)"
   ]
  },
  {
   "cell_type": "code",
   "execution_count": 46,
   "metadata": {
    "collapsed": false
   },
   "outputs": [
    {
     "data": {
      "text/plain": [
       "0.0625"
      ]
     },
     "execution_count": 46,
     "metadata": {},
     "output_type": "execute_result"
    }
   ],
   "source": [
    "myPow(2,-4)"
   ]
  },
  {
   "cell_type": "markdown",
   "metadata": {},
   "source": [
    "### 2. Check whether a number is power of two.\n",
    "\n",
    "+ Write a function to check whether a number is power of two or not.\n",
    "+ For example, isPowerOfTwo(64) should return True\n",
    "+ You can assume that each input number n is greater than or equal to 1.\n",
    "+ (Optional) Try to finish this problem using recursion and with one-line of code"
   ]
  },
  {
   "cell_type": "code",
   "execution_count": 63,
   "metadata": {
    "collapsed": true
   },
   "outputs": [],
   "source": [
    "def isPowerOfTwo(n):\n",
    "    while n > 1:\n",
    "        if n % 2 == 0:\n",
    "            n = n / 2\n",
    "        else:\n",
    "            return False\n",
    "    return True\n",
    "#def isPowerOfTwo(n):\n",
    "#    if n == 1:\n",
    "#        return True\n",
    "#    elif n % 2 == 0:\n",
    "#        return isPowerOfTwo(n/2)\n",
    "#    return False"
   ]
  },
  {
   "cell_type": "code",
   "execution_count": 64,
   "metadata": {
    "collapsed": false
   },
   "outputs": [
    {
     "data": {
      "text/plain": [
       "False"
      ]
     },
     "execution_count": 64,
     "metadata": {},
     "output_type": "execute_result"
    }
   ],
   "source": [
    "isPowerOfTwo(63)"
   ]
  },
  {
   "cell_type": "code",
   "execution_count": 65,
   "metadata": {
    "collapsed": false
   },
   "outputs": [
    {
     "data": {
      "text/plain": [
       "True"
      ]
     },
     "execution_count": 65,
     "metadata": {},
     "output_type": "execute_result"
    }
   ],
   "source": [
    "isPowerOfTwo(1)"
   ]
  },
  {
   "cell_type": "markdown",
   "metadata": {
    "collapsed": true
   },
   "source": [
    "### 3. Valid Parentheses \n",
    "+ Given a string containing just the characters '(', ')', '{', '}', '[' and ']', determine if the input string is valid.\n",
    "\n",
    "+ The brackets must close in the correct order, \"( )\" and \"( )[ ] {}\" are all valid but \"( ]\" and \"( [ ) ]\" are not.\n",
    "\n",
    "+ Hint: you might need to [use a `list` as a stack](https://docs.python.org/2/tutorial/datastructures.html#using-lists-as-stacks)."
   ]
  },
  {
   "cell_type": "code",
   "execution_count": 103,
   "metadata": {
    "collapsed": false
   },
   "outputs": [],
   "source": [
    "def validParentheses(s):\n",
    "    char_dict = {'(': ')',')': '(', '[': ']', ']': '[', '{': '}', '}': '{'}\n",
    "    \n",
    "    if s[0] in ')]}':\n",
    "        return False\n",
    "    for i in range(len(s) - 1):\n",
    "        if char_dict[s[i]] != s[i + 1] and char_dict[s[i]] != s[i - 1] and char_dict[s[i]] != s[-i - 1]:\n",
    "            return False\n",
    "    return True\n"
   ]
  },
  {
   "cell_type": "code",
   "execution_count": 104,
   "metadata": {
    "collapsed": false
   },
   "outputs": [
    {
     "name": "stdout",
     "output_type": "stream",
     "text": [
      "True\n",
      "False\n",
      "True\n",
      "False\n",
      "False\n"
     ]
    }
   ],
   "source": [
    "print validParentheses(\"()[]{}\") # True\n",
    "print validParentheses(\"([)]{}\") # False\n",
    "print validParentheses(\"({[]})\") # True\n",
    "print validParentheses('[{(') # False\n",
    "print validParentheses('}{}{')"
   ]
  },
  {
   "cell_type": "markdown",
   "metadata": {
    "collapsed": true
   },
   "source": [
    "### 4. Min Stack (Homework)\n",
    "Design a stack class that supports push, pop, top. Also we want to retrieve the minimum element in constant time.\n",
    "\n",
    "+ push(x) -- Push element x onto stack.\n",
    "+ pop() -- Removes the element on top of the stack.\n",
    "+ top() -- Get the top element.\n",
    "+ getMin() -- Retrieve the minimum element in the stack.\n",
    "+ **Hint**: To retrieve the minimum element in constant time, you need to create two lists. One is to store all the elements and the other one only store the minimum.\n",
    "\n",
    "```python\n",
    "class MinStack(object):\n",
    "    def __init__(self):\n",
    "        \"\"\"\n",
    "        initialize your data structure here.\n",
    "        \"\"\"\n",
    "        self.stack = []\n",
    "        self.minstack = []\n",
    "        \n",
    "    def push(self, x):\n",
    "    # Append x to the end of stack and also check whether it should be appended to the minstack    \n",
    "\n",
    "    def pop(self):\n",
    "    # Pop the last element of the stack\n",
    "    # Remember to check whether this element is the smallest one in the minstack\n",
    "        \n",
    "\n",
    "    def top(self):\n",
    "    # Return the last element of the stack if stack is not None\n",
    "        \n",
    "\n",
    "    def getMin(self):\n",
    "    # Return the last element of the minstack if minstack is not None\n",
    "```"
   ]
  },
  {
   "cell_type": "code",
   "execution_count": 125,
   "metadata": {
    "collapsed": true
   },
   "outputs": [],
   "source": [
    "#### Your code here\n",
    "class MinStack:\n",
    "    # @param x, an integer\n",
    "    # @return an integer\n",
    "    def __init__(self):\n",
    "        self.stack = []\n",
    "        self.minstack = []\n",
    "\n",
    "    def push(self, x):\n",
    "        self.stack.append(x)\n",
    "        if self.minstack == []:\n",
    "            self.minstack.append(x)\n",
    "\n",
    "        if x < min(self.minstack):\n",
    "            self.minstack.append(x)\n",
    "\n",
    "    def pop(self):\n",
    "        if self.stack != []:\n",
    "            x = self.stack[-1]\n",
    "            if x == self.minstack[-1]:\n",
    "                del self.minstack[-1]\n",
    "            del self.stack[-1]\n",
    "\n",
    "            return x\n",
    "        else:\n",
    "            return self.stack\n",
    "\n",
    "\n",
    "    # @return an integer\n",
    "    def top(self):\n",
    "        if self.stack != 0:\n",
    "            return self.stack[-1]\n",
    "        else:\n",
    "            return self.minstack\n",
    "\n",
    "\n",
    "    # @return an integer\n",
    "    def getMin(self):\n",
    "        if self.minstack != 0:\n",
    "            return self.minstack[-1]\n",
    "        else:\n",
    "            return self.minstack"
   ]
  },
  {
   "cell_type": "code",
   "execution_count": 126,
   "metadata": {
    "collapsed": false
   },
   "outputs": [
    {
     "name": "stdout",
     "output_type": "stream",
     "text": [
      "[8]\n",
      "[8]\n",
      "========================================\n",
      "[8, 4]\n",
      "[8, 4]\n",
      "========================================\n",
      "[8, 4, 6]\n",
      "[8, 4]\n",
      "========================================\n",
      "[8, 4, 6, 5]\n",
      "[8, 4]\n",
      "========================================\n",
      "[8, 4, 6, 5, 4]\n",
      "[8, 4]\n",
      "========================================\n",
      "[8, 4, 6, 5, 4, 2]\n",
      "[8, 4, 2]\n",
      "========================================\n",
      "[8, 4, 6, 5, 4, 2, 3]\n",
      "[8, 4, 2]\n",
      "========================================\n"
     ]
    }
   ],
   "source": [
    "### Test on push\n",
    "a = MinStack()\n",
    "for i in [8,4,6,5,4,2,3]:\n",
    "    a.push(i)\n",
    "    print a.stack\n",
    "    print a.minstack\n",
    "    print \"=\" * 40"
   ]
  },
  {
   "cell_type": "code",
   "execution_count": 127,
   "metadata": {
    "collapsed": false
   },
   "outputs": [
    {
     "name": "stdout",
     "output_type": "stream",
     "text": [
      "[8, 4, 6, 5, 4, 2, 3]\n",
      "[8, 4, 2]\n",
      "========================================\n",
      "[8, 4, 6, 5, 4, 2]\n",
      "[8, 4, 2]\n",
      "========================================\n",
      "[8, 4, 6, 5, 4]\n",
      "[8, 4]\n",
      "========================================\n",
      "[8, 4, 6, 5]\n",
      "[8]\n",
      "========================================\n",
      "[8, 4, 6]\n",
      "[8]\n",
      "========================================\n",
      "[8, 4]\n",
      "[8]\n",
      "========================================\n",
      "[8]\n",
      "[8]\n",
      "========================================\n",
      "[]\n",
      "[]\n",
      "========================================\n"
     ]
    }
   ],
   "source": [
    "### Test on pop\n",
    "for i in range(8):\n",
    "    print a.stack\n",
    "    print a.minstack\n",
    "    print \"=\" * 40\n",
    "    a.pop()"
   ]
  },
  {
   "cell_type": "code",
   "execution_count": 128,
   "metadata": {
    "collapsed": false
   },
   "outputs": [
    {
     "name": "stdout",
     "output_type": "stream",
     "text": [
      "(1, 3.0994415283203125e-06)\n",
      "(8, 9.5367431640625e-07)\n",
      "(64, 9.5367431640625e-07)\n",
      "(512, 2.86102294921875e-06)\n",
      "(4096, 5.0067901611328125e-06)\n",
      "(32768, 5.9604644775390625e-06)\n",
      "(262144, 1.1920928955078125e-05)\n",
      "(2097152, 1.1920928955078125e-05)\n",
      "(16777216, 1.5020370483398438e-05)\n"
     ]
    }
   ],
   "source": [
    "#### Testing on Constant Time\n",
    "import random\n",
    "import time\n",
    "\n",
    "lst =[]\n",
    "for num in map(lambda x: 8**x, range(9)):\n",
    "    ### Create a MinStack object\n",
    "    test = MinStack()\n",
    "    for i in range(num):\n",
    "        test.push(random.random()*100)\n",
    "    \n",
    "    ### Time needed to get the minimum\n",
    "    start = time.time()\n",
    "    test.getMin()\n",
    "    lst.append( (num, time.time()-start))\n",
    "\n",
    "for item in lst:\n",
    "    print item"
   ]
  },
  {
   "cell_type": "code",
   "execution_count": null,
   "metadata": {
    "collapsed": true
   },
   "outputs": [],
   "source": []
  }
 ],
 "metadata": {
  "anaconda-cloud": {},
  "kernelspec": {
   "display_name": "Python [Root]",
   "language": "python",
   "name": "Python [Root]"
  },
  "language_info": {
   "codemirror_mode": {
    "name": "ipython",
    "version": 2
   },
   "file_extension": ".py",
   "mimetype": "text/x-python",
   "name": "python",
   "nbconvert_exporter": "python",
   "pygments_lexer": "ipython2",
   "version": "2.7.11"
  }
 },
 "nbformat": 4,
 "nbformat_minor": 0
}
