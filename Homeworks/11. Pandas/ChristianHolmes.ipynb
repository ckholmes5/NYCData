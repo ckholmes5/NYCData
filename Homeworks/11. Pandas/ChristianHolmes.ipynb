{
 "cells": [
  {
   "cell_type": "markdown",
   "metadata": {},
   "source": [
    "### Problem 1\n",
    "In this question, we will use the csv file **Temp.csv**. \n",
    "- Read it into a data frame, call it `Temp`. (Import the packages you think you need)."
   ]
  },
  {
   "cell_type": "code",
   "execution_count": 1,
   "metadata": {
    "collapsed": false
   },
   "outputs": [],
   "source": [
    "import pandas as pd\n",
    "Temp = pd.read_csv('/Users/cholmes/Downloads/[05]HW_Pandas/Temp.csv')"
   ]
  },
  {
   "cell_type": "markdown",
   "metadata": {},
   "source": [
    "- We learned that the temperature at New Haven, Connecticut is currently 58 degree fahrenheit. Add this information into the DataFrame."
   ]
  },
  {
   "cell_type": "code",
   "execution_count": 2,
   "metadata": {
    "collapsed": false
   },
   "outputs": [
    {
     "name": "stdout",
     "output_type": "stream",
     "text": [
      "         City        State  Temperature\n",
      "0         NYC     New York           67\n",
      "1      Albany     New York           49\n",
      "2     Buffalo     New York           38\n",
      "3    Hartford  Connecticut           63\n",
      "4  Bridgeport  Connecticut           58\n",
      "5      Treton   New Jersey           72\n",
      "6      Newark   New Jersey           68\n",
      "7   New Haven  Connecticut           58\n"
     ]
    }
   ],
   "source": [
    "df = pd.DataFrame([['New Haven', 'Connecticut', 58]])\n",
    "df.columns = ['City', 'State', 'Temperature']\n",
    "Temp = Temp.append(df, ignore_index = True)\n",
    "print Temp\n"
   ]
  },
  {
   "cell_type": "markdown",
   "metadata": {},
   "source": [
    "- Replace the names of the states by their abbreviations. That is \n",
    "    - Connecticut --> CT\n",
    "    - New Jersey  --> NJ\n",
    "    - New York    --> NY"
   ]
  },
  {
   "cell_type": "code",
   "execution_count": 115,
   "metadata": {
    "collapsed": false
   },
   "outputs": [
    {
     "name": "stdout",
     "output_type": "stream",
     "text": [
      "         City        State  Temperature\n",
      "0         NYC           NY           67\n",
      "1      Albany           NY           49\n",
      "2     Buffalo           NY           38\n",
      "3    Hartford  Connecticut           63\n",
      "4  Bridgeport  Connecticut           58\n",
      "5      Treton   New Jersey           72\n",
      "6      Newark   New Jersey           68\n",
      "7   New Haven  Connecticut           58\n"
     ]
    }
   ],
   "source": [
    "Temp.State = Temp.State.replace('New York', 'NY') # D.D. - You'll want to replace the other states by their \n",
    "print Temp                                        # abbreviations too.  "
   ]
  },
  {
   "cell_type": "markdown",
   "metadata": {},
   "source": [
    "- Select the rows in New York."
   ]
  },
  {
   "cell_type": "code",
   "execution_count": 246,
   "metadata": {
    "collapsed": false
   },
   "outputs": [
    {
     "data": {
      "text/html": [
       "<div>\n",
       "<table border=\"1\" class=\"dataframe\">\n",
       "  <thead>\n",
       "    <tr style=\"text-align: right;\">\n",
       "      <th></th>\n",
       "      <th>City</th>\n",
       "      <th>State</th>\n",
       "      <th>Temperature</th>\n",
       "    </tr>\n",
       "  </thead>\n",
       "  <tbody>\n",
       "    <tr>\n",
       "      <th>0</th>\n",
       "      <td>NYC</td>\n",
       "      <td>NY</td>\n",
       "      <td>67</td>\n",
       "    </tr>\n",
       "    <tr>\n",
       "      <th>1</th>\n",
       "      <td>Albany</td>\n",
       "      <td>NY</td>\n",
       "      <td>49</td>\n",
       "    </tr>\n",
       "    <tr>\n",
       "      <th>2</th>\n",
       "      <td>Buffalo</td>\n",
       "      <td>NY</td>\n",
       "      <td>38</td>\n",
       "    </tr>\n",
       "  </tbody>\n",
       "</table>\n",
       "</div>"
      ],
      "text/plain": [
       "      City State  Temperature\n",
       "0      NYC    NY           67\n",
       "1   Albany    NY           49\n",
       "2  Buffalo    NY           38"
      ]
     },
     "execution_count": 246,
     "metadata": {},
     "output_type": "execute_result"
    }
   ],
   "source": [
    "Temp[Temp.State == 'NY']\n"
   ]
  },
  {
   "cell_type": "markdown",
   "metadata": {},
   "source": [
    "- What is the average of the temperature of cities in NY?"
   ]
  },
  {
   "cell_type": "code",
   "execution_count": 156,
   "metadata": {
    "collapsed": false
   },
   "outputs": [
    {
     "data": {
      "text/plain": [
       "51.333333333333336"
      ]
     },
     "execution_count": 156,
     "metadata": {},
     "output_type": "execute_result"
    }
   ],
   "source": [
    "Temp[Temp.State == 'NY'].Temperature.mean()"
   ]
  },
  {
   "cell_type": "markdown",
   "metadata": {
    "collapsed": true
   },
   "source": [
    "- Find the mean and the standard deviation of the temperature of each state."
   ]
  },
  {
   "cell_type": "code",
   "execution_count": 179,
   "metadata": {
    "collapsed": false
   },
   "outputs": [
    {
     "name": "stdout",
     "output_type": "stream",
     "text": [
      "             Temperature\n",
      "State                   \n",
      "Connecticut    59.666667\n",
      "NY             51.333333\n",
      "New Jersey     70.000000\n",
      "             Temperature\n",
      "State                   \n",
      "Connecticut     2.886751\n",
      "NY             14.640128\n",
      "New Jersey      2.828427\n"
     ]
    }
   ],
   "source": [
    "mean = Temp.groupby('State').mean() # D.D. - Could also do both at once: Temp.groupby('State').agg(['mean', 'std']).  \n",
    "std = Temp.groupby('State').std()\n",
    "print mean\n",
    "print std"
   ]
  },
  {
   "cell_type": "markdown",
   "metadata": {},
   "source": [
    "- We know the capital of each state: \n",
    "    - Connecticut --> Hartford\n",
    "    - New Jersey  --> Treton\n",
    "    - New York    --> Albany\n",
    "    \n",
    "    Create a data frame, `Capital`, with two columns: State and Capital, which should look like:\n",
    "    \n",
    "|| State| Capital|\n",
    "| :-: |:---: | :---:|\n",
    "| 0| CT  | Hartford|\n",
    "| 1| NJ | Treton|\n",
    "| 2| NY| Albany|"
   ]
  },
  {
   "cell_type": "code",
   "execution_count": 260,
   "metadata": {
    "collapsed": false
   },
   "outputs": [
    {
     "name": "stdout",
     "output_type": "stream",
     "text": [
      "    Capital State\n",
      "0  Hartford    CT\n",
      "1    Treton    NJ\n",
      "2    Albany    NY\n"
     ]
    }
   ],
   "source": [
    "\n",
    "Capital = pd.DataFrame({'Capital' : ['Hartford', 'Treton', 'Albany'], 'State' : ['CT', 'NJ', 'NY']})\n",
    "print Capital"
   ]
  },
  {
   "cell_type": "raw",
   "metadata": {},
   "source": [
    "- Mutate a new boolean column, `Capital`, to `Temp`, which is `True` if the city in the row is the capital of the state, else `False`."
   ]
  },
  {
   "cell_type": "code",
   "execution_count": 274,
   "metadata": {
    "collapsed": false
   },
   "outputs": [
    {
     "data": {
      "text/html": [
       "<div>\n",
       "<table border=\"1\" class=\"dataframe\">\n",
       "  <thead>\n",
       "    <tr style=\"text-align: right;\">\n",
       "      <th></th>\n",
       "      <th>City</th>\n",
       "      <th>State</th>\n",
       "      <th>Temperature</th>\n",
       "      <th>Capital</th>\n",
       "    </tr>\n",
       "  </thead>\n",
       "  <tbody>\n",
       "    <tr>\n",
       "      <th>0</th>\n",
       "      <td>NYC</td>\n",
       "      <td>NY</td>\n",
       "      <td>67</td>\n",
       "      <td>False</td>\n",
       "    </tr>\n",
       "    <tr>\n",
       "      <th>1</th>\n",
       "      <td>Albany</td>\n",
       "      <td>NY</td>\n",
       "      <td>49</td>\n",
       "      <td>True</td>\n",
       "    </tr>\n",
       "    <tr>\n",
       "      <th>2</th>\n",
       "      <td>Buffalo</td>\n",
       "      <td>NY</td>\n",
       "      <td>38</td>\n",
       "      <td>False</td>\n",
       "    </tr>\n",
       "    <tr>\n",
       "      <th>3</th>\n",
       "      <td>Hartford</td>\n",
       "      <td>Connecticut</td>\n",
       "      <td>63</td>\n",
       "      <td>True</td>\n",
       "    </tr>\n",
       "    <tr>\n",
       "      <th>4</th>\n",
       "      <td>Bridgeport</td>\n",
       "      <td>Connecticut</td>\n",
       "      <td>58</td>\n",
       "      <td>False</td>\n",
       "    </tr>\n",
       "    <tr>\n",
       "      <th>5</th>\n",
       "      <td>Treton</td>\n",
       "      <td>New Jersey</td>\n",
       "      <td>72</td>\n",
       "      <td>True</td>\n",
       "    </tr>\n",
       "    <tr>\n",
       "      <th>6</th>\n",
       "      <td>Newark</td>\n",
       "      <td>New Jersey</td>\n",
       "      <td>68</td>\n",
       "      <td>False</td>\n",
       "    </tr>\n",
       "    <tr>\n",
       "      <th>7</th>\n",
       "      <td>New Haven</td>\n",
       "      <td>Connecticut</td>\n",
       "      <td>58</td>\n",
       "      <td>False</td>\n",
       "    </tr>\n",
       "  </tbody>\n",
       "</table>\n",
       "</div>"
      ],
      "text/plain": [
       "         City        State  Temperature Capital\n",
       "0         NYC           NY           67   False\n",
       "1      Albany           NY           49    True\n",
       "2     Buffalo           NY           38   False\n",
       "3    Hartford  Connecticut           63    True\n",
       "4  Bridgeport  Connecticut           58   False\n",
       "5      Treton   New Jersey           72    True\n",
       "6      Newark   New Jersey           68   False\n",
       "7   New Haven  Connecticut           58   False"
      ]
     },
     "execution_count": 274,
     "metadata": {},
     "output_type": "execute_result"
    }
   ],
   "source": [
    "#Temp.assign(c = Temp.City == Capital.Capital )\n",
    "#if Temp.City == Capital.Capital:\n",
    "#    print True\n",
    "#Temp.assign(c = Temp.City == Capital.Capital )\n",
    "lst = []\n",
    "for i in Capital.Capital:\n",
    "    lst.append(i)\n",
    "newlst = []\n",
    "for j in Temp.City:\n",
    "    if j in lst:\n",
    "        newlst.append(True)\n",
    "    else:\n",
    "        newlst.append(False)\n",
    "        \n",
    "Temp = Temp.assign(Capital = newlst)\n",
    "Temp"
   ]
  },
  {
   "cell_type": "raw",
   "metadata": {
    "collapsed": true
   },
   "source": [
    "### Problem 2\n",
    "\n",
    "- a. Load the Gross Domestic Product data for the 190 ranked countries in the file **GDP.csv**. Load **Country.csv** into a DataFrame. \n",
    "- b. Match the data based on the country shortcode. How many of the IDs match? \n",
    "- c. Sort the data frame in descending order by GDP rank. What is the 13th country in the resulting data frame? (Note: GDP formats as 123,456,789.)\n",
    "- d. What is the average GDP for the \"High income: OECD\" and \"High income: nonOECD\" group?\n",
    "- e. What is the average GDP for different income groups and regions?"
   ]
  },
  {
   "cell_type": "code",
   "execution_count": 12,
   "metadata": {
    "collapsed": false
   },
   "outputs": [
    {
     "data": {
      "text/html": [
       "<div>\n",
       "<table border=\"1\" class=\"dataframe\">\n",
       "  <thead>\n",
       "    <tr style=\"text-align: right;\">\n",
       "      <th></th>\n",
       "      <th>CountryCode</th>\n",
       "      <th>Rank</th>\n",
       "      <th>CountryName</th>\n",
       "      <th>GDP</th>\n",
       "    </tr>\n",
       "  </thead>\n",
       "  <tbody>\n",
       "    <tr>\n",
       "      <th>0</th>\n",
       "      <td>USA</td>\n",
       "      <td>1</td>\n",
       "      <td>United States</td>\n",
       "      <td>16,244,600</td>\n",
       "    </tr>\n",
       "    <tr>\n",
       "      <th>1</th>\n",
       "      <td>CHN</td>\n",
       "      <td>2</td>\n",
       "      <td>China</td>\n",
       "      <td>8,227,103</td>\n",
       "    </tr>\n",
       "    <tr>\n",
       "      <th>2</th>\n",
       "      <td>JPN</td>\n",
       "      <td>3</td>\n",
       "      <td>Japan</td>\n",
       "      <td>5,959,718</td>\n",
       "    </tr>\n",
       "    <tr>\n",
       "      <th>3</th>\n",
       "      <td>DEU</td>\n",
       "      <td>4</td>\n",
       "      <td>Germany</td>\n",
       "      <td>3,428,131</td>\n",
       "    </tr>\n",
       "    <tr>\n",
       "      <th>4</th>\n",
       "      <td>FRA</td>\n",
       "      <td>5</td>\n",
       "      <td>France</td>\n",
       "      <td>2,612,878</td>\n",
       "    </tr>\n",
       "  </tbody>\n",
       "</table>\n",
       "</div>"
      ],
      "text/plain": [
       "  CountryCode  Rank    CountryName           GDP\n",
       "0         USA     1  United States   16,244,600 \n",
       "1         CHN     2          China    8,227,103 \n",
       "2         JPN     3          Japan    5,959,718 \n",
       "3         DEU     4        Germany    3,428,131 \n",
       "4         FRA     5         France    2,612,878 "
      ]
     },
     "execution_count": 12,
     "metadata": {},
     "output_type": "execute_result"
    }
   ],
   "source": [
    "#### Your code here\n",
    "# (a)\n",
    "import numpy as np\n",
    "import pandas as pd\n",
    "gdp = pd.read_csv('/Users/cholmes/Downloads/[05]HW_Pandas/GDP.csv', skiprows=range(5), header= None, usecols=[0,1,3,4], nrows=190)\n",
    "gdp.columns = ['CountryCode', 'Rank', 'CountryName', 'GDP']\n",
    "\n",
    "countries = pd.read_csv('/Users/cholmes/Downloads/[05]HW_Pandas/Country.csv')\n",
    "\n",
    "gdp.head()"
   ]
  },
  {
   "cell_type": "code",
   "execution_count": 13,
   "metadata": {
    "collapsed": false
   },
   "outputs": [
    {
     "data": {
      "text/plain": [
       "189"
      ]
     },
     "execution_count": 13,
     "metadata": {},
     "output_type": "execute_result"
    }
   ],
   "source": [
    "# 189 (b)\n",
    "ids = pd.merge(gdp, countries, on = 'CountryCode' )\n",
    "len(ids)"
   ]
  },
  {
   "cell_type": "code",
   "execution_count": 14,
   "metadata": {
    "collapsed": false
   },
   "outputs": [
    {
     "data": {
      "text/html": [
       "<div>\n",
       "<table border=\"1\" class=\"dataframe\">\n",
       "  <thead>\n",
       "    <tr style=\"text-align: right;\">\n",
       "      <th></th>\n",
       "      <th>CountryCode</th>\n",
       "      <th>Rank</th>\n",
       "      <th>CountryName</th>\n",
       "      <th>GDP</th>\n",
       "      <th>Long Name</th>\n",
       "      <th>Income Group</th>\n",
       "      <th>Region</th>\n",
       "      <th>Lending category</th>\n",
       "      <th>Other groups</th>\n",
       "      <th>Currency Unit</th>\n",
       "      <th>...</th>\n",
       "      <th>Source of most recent Income and expenditure data</th>\n",
       "      <th>Vital registration complete</th>\n",
       "      <th>Latest agricultural census</th>\n",
       "      <th>Latest industrial data</th>\n",
       "      <th>Latest trade data</th>\n",
       "      <th>Latest water withdrawal data</th>\n",
       "      <th>2-alpha code</th>\n",
       "      <th>WB-2 code</th>\n",
       "      <th>Table Name</th>\n",
       "      <th>Short Name</th>\n",
       "    </tr>\n",
       "  </thead>\n",
       "  <tbody>\n",
       "    <tr>\n",
       "      <th>12</th>\n",
       "      <td>ESP</td>\n",
       "      <td>13</td>\n",
       "      <td>Spain</td>\n",
       "      <td>1,322,965</td>\n",
       "      <td>Kingdom of Spain</td>\n",
       "      <td>High income: OECD</td>\n",
       "      <td>Europe &amp; Central Asia</td>\n",
       "      <td>NaN</td>\n",
       "      <td>Euro area</td>\n",
       "      <td>Euro</td>\n",
       "      <td>...</td>\n",
       "      <td>IHS, 2000</td>\n",
       "      <td>Yes</td>\n",
       "      <td>1999</td>\n",
       "      <td>2004.0</td>\n",
       "      <td>2008.0</td>\n",
       "      <td>2000.0</td>\n",
       "      <td>ES</td>\n",
       "      <td>ES</td>\n",
       "      <td>Spain</td>\n",
       "      <td>Spain</td>\n",
       "    </tr>\n",
       "  </tbody>\n",
       "</table>\n",
       "<p>1 rows × 34 columns</p>\n",
       "</div>"
      ],
      "text/plain": [
       "   CountryCode  Rank CountryName          GDP         Long Name  \\\n",
       "12         ESP    13       Spain   1,322,965   Kingdom of Spain   \n",
       "\n",
       "         Income Group                 Region Lending category Other groups  \\\n",
       "12  High income: OECD  Europe & Central Asia              NaN    Euro area   \n",
       "\n",
       "   Currency Unit    ...     Source of most recent Income and expenditure data  \\\n",
       "12          Euro    ...                                             IHS, 2000   \n",
       "\n",
       "   Vital registration complete Latest agricultural census  \\\n",
       "12                         Yes                       1999   \n",
       "\n",
       "   Latest industrial data  Latest trade data  Latest water withdrawal data  \\\n",
       "12                 2004.0             2008.0                        2000.0   \n",
       "\n",
       "   2-alpha code WB-2 code  Table Name Short Name  \n",
       "12           ES        ES       Spain      Spain  \n",
       "\n",
       "[1 rows x 34 columns]"
      ]
     },
     "execution_count": 14,
     "metadata": {},
     "output_type": "execute_result"
    }
   ],
   "source": [
    "# (c)\n",
    "ids.sort_values('Rank')\n",
    "ids[ids.Rank == 13]"
   ]
  },
  {
   "cell_type": "code",
   "execution_count": 15,
   "metadata": {
    "collapsed": false
   },
   "outputs": [
    {
     "name": "stdout",
     "output_type": "stream",
     "text": [
      "1483917.13333\n",
      "104349.826087\n"
     ]
    }
   ],
   "source": [
    "# (d)\n",
    "\n",
    "cols = ids.columns\n",
    "cols = cols.map(lambda x: x.replace(' ', '_') if isinstance(x, (str, unicode)) else x)\n",
    "ids.columns = cols\n",
    "\n",
    "\n",
    "oecd = ids[ids.Income_Group == 'High income: OECD']\n",
    "non_oecd = ids[ids.Income_Group == 'High income: nonOECD']\n",
    "\n",
    "floatGDP = []\n",
    "floatnGDP = []\n",
    "for i in oecd['GDP']:\n",
    "    i = float(i.replace(',', ''))  # D.D. - The `apply` method on pd.Series would be useful here. \n",
    "    floatGDP.append(i)\n",
    "for i in non_oecd['GDP']:\n",
    "    i = float(i.replace(',',''))\n",
    "    floatnGDP.append(i)\n",
    "oecd.GDP = floatGDP\n",
    "non_oecd.GDP = floatnGDP \n",
    "\n",
    "print oecd.GDP.mean()\n",
    "print non_oecd.GDP.mean()"
   ]
  },
  {
   "cell_type": "code",
   "execution_count": 23,
   "metadata": {
    "collapsed": false
   },
   "outputs": [
    {
     "name": "stdout",
     "output_type": "stream",
     "text": [
      "<pandas.core.groupby.DataFrameGroupBy object at 0x111e0a090>\n",
      "<pandas.core.groupby.DataFrameGroupBy object at 0x111e0aa90>\n"
     ]
    }
   ],
   "source": [
    "print ids.groupby('Rank')\n",
    "print ids.groupby(['Rank', 'GDP'])"
   ]
  },
  {
   "cell_type": "code",
   "execution_count": 30,
   "metadata": {
    "collapsed": false
   },
   "outputs": [
    {
     "name": "stdout",
     "output_type": "stream",
     "text": [
      "                                     GDP\n",
      "Region                                  \n",
      "East Asia & Pacific         2.197268e+06\n",
      "Europe & Central Asia       7.567044e+05\n",
      "Middle East & North Africa  2.582170e+05\n",
      "North America               9.033012e+06\n",
      "                                      GDP\n",
      "Region                                   \n",
      "East Asia & Pacific         149624.000000\n",
      "Europe & Central Asia        27766.600000\n",
      "Latin America & Caribbean    27954.800000\n",
      "Middle East & North Africa  214253.142857\n",
      "North America                 5474.000000\n",
      "Sub-Saharan Africa           17697.000000\n"
     ]
    }
   ],
   "source": [
    "print oecd.groupby('Region').mean()[['GDP']]\n",
    "print non_oecd.groupby('Region').mean()[['GDP']]"
   ]
  },
  {
   "cell_type": "code",
   "execution_count": null,
   "metadata": {
    "collapsed": true
   },
   "outputs": [],
   "source": []
  }
 ],
 "metadata": {
  "anaconda-cloud": {},
  "kernelspec": {
   "display_name": "Python 2",
   "language": "python",
   "name": "python2"
  },
  "language_info": {
   "codemirror_mode": {
    "name": "ipython",
    "version": 2
   },
   "file_extension": ".py",
   "mimetype": "text/x-python",
   "name": "python",
   "nbconvert_exporter": "python",
   "pygments_lexer": "ipython2",
   "version": "2.7.12"
  }
 },
 "nbformat": 4,
 "nbformat_minor": 0
}
